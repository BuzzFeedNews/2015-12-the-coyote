{
 "cells": [
  {
   "cell_type": "markdown",
   "metadata": {},
   "source": [
    "# Visa Certification Analysis — NCGA, Stan Eury, etc.\n",
    "\n",
    "The analysis below supports several passages in the [BuzzFeed News article, \"The Coyote,\"](http://www.buzzfeed.com/kenbensinger/the-coyote) published December 29, 2015. Notes:\n",
    "\n",
    "- These analyses use visa-certification data published by the [Department of Labor's Office of Foreign Labor Certification (OFLC)](https://www.foreignlaborcert.doleta.gov/performancedata.cfm). The OFLC publishes spreadsheets detailing its decisions about whether to approve (\"certify\") employers to bring H-2 guest workers to the United States. H-2 visas come in two types: H-2A for agricultural workers and H-2B for non-agricultural unskilled workers. The Department of Labor's data covers __H-2A decisions since FY 2006__ and __H-2B decisions since FY 2000__. The most recent data, for both visa types, includes data  __through FY 2015__, which concluded on Sept. 30, 2015.\n",
    "\n",
    "\n",
    "- The raw data were collected from two sites — [doleta.gov](http://www.foreignlaborcert.doleta.gov/performancedata.cfm) and [fldatacenter.com](http://www.flcdatacenter.com/) — and were then processed into a standardized format. You can find that raw data, the processing scripts, and additional details [here](https://github.com/buzzfeednews/H-2-certification-data).\n",
    "\n",
    "\n",
    "- The first section of the analysis loads the data, and identifies visa certifications associated with the North Carolina Growers Association and other Eury businesses.\n",
    "\n",
    "\n",
    "- The remaining sections use the data to support specific passages."
   ]
  },
  {
   "cell_type": "markdown",
   "metadata": {},
   "source": [
    "# Data preparation"
   ]
  },
  {
   "cell_type": "markdown",
   "metadata": {},
   "source": [
    "## Load visa-certification data"
   ]
  },
  {
   "cell_type": "code",
   "execution_count": 1,
   "metadata": {
    "collapsed": true
   },
   "outputs": [],
   "source": [
    "import pandas as pd"
   ]
  },
  {
   "cell_type": "code",
   "execution_count": 2,
   "metadata": {
    "collapsed": true
   },
   "outputs": [],
   "source": [
    "visa_decisions = pd.read_csv(\"../data/H-2-certification-decisions.csv\", low_memory=False)\\\n",
    "    .rename(columns=dict(fy=\"fiscal_year\"))"
   ]
  },
  {
   "cell_type": "code",
   "execution_count": 3,
   "metadata": {
    "collapsed": false
   },
   "outputs": [],
   "source": [
    "to_calendar_year = lambda x: pd.to_datetime(x).year if pd.notnull(x) else None\n",
    "visa_decisions[\"calendar_year\"] = visa_decisions[\"last_event_date\"].apply(to_calendar_year)"
   ]
  },
  {
   "cell_type": "markdown",
   "metadata": {},
   "source": [
    "## Identify certifications associated with NCGA and other companies connected to Stan Eury"
   ]
  },
  {
   "cell_type": "markdown",
   "metadata": {},
   "source": [
    "This analysis focuses on three Eury-controlled businesses: the North Carolina Growers Association, International Labor Management Corp., and The Labor Company. The \"agent name\" and \"lawfirm name\" fields in the Department of Labor data are entered free-form, so we use a variety of patterns — e.g., agent/lawfirm names that include \"NORTH CAROLINA GROWER\" — to identify the applications."
   ]
  },
  {
   "cell_type": "markdown",
   "metadata": {},
   "source": [
    "### North Carolina Growers Association (NCGA)"
   ]
  },
  {
   "cell_type": "code",
   "execution_count": 4,
   "metadata": {
    "collapsed": true
   },
   "outputs": [],
   "source": [
    "ncga_pat = r\"N\\.?C\\.? GROWER|NCGA|N C G A|NORTH CAROLINA GROWER|STAN.* EURY.* EXEC\"\n",
    "\n",
    "visa_decisions[\"is_ncga\"] = (\n",
    "    visa_decisions[\"agent_name\"].str.contains(ncga_pat, na=False) |\n",
    "    visa_decisions[\"employer_name\"].str.contains(ncga_pat, na=False)\n",
    ")\n",
    "\n",
    "# Note: On some multi-employer applications, \n",
    "# the agent name is listed only on the master application,\n",
    "# and not on the sub-applications.\n",
    "ncga_case_numbers = visa_decisions[visa_decisions[\"is_ncga\"]][\"case_no\"].unique()\n",
    "\n",
    "visa_decisions.loc[(\n",
    "    visa_decisions[\"case_no\"].isin(ncga_case_numbers) &\n",
    "    visa_decisions[\"agent_name\"].isnull()\n",
    "), \"is_ncga\"] = True"
   ]
  },
  {
   "cell_type": "markdown",
   "metadata": {},
   "source": [
    "### International Labor Management Corp. (ILMC)"
   ]
  },
  {
   "cell_type": "code",
   "execution_count": 5,
   "metadata": {
    "collapsed": true
   },
   "outputs": [],
   "source": [
    "ilmc_pat = r\"INT.*L.? LABOR MAN|INT.*L.? LABOR MGM?T|I\\.?L\\.?M\\.?C\\.?|ILM CORP|SARA.* FAR?REL?L\""
   ]
  },
  {
   "cell_type": "code",
   "execution_count": 6,
   "metadata": {
    "collapsed": false
   },
   "outputs": [],
   "source": [
    "visa_decisions[\"is_ilmc\"] = (\n",
    "    visa_decisions[\"agent_name\"].str.contains(ilmc_pat, na=False) |\n",
    "    visa_decisions[\"employer_name\"].str.contains(ilmc_pat, na=False) |\n",
    "    (\n",
    "        # In FY 2013, the DOL data does not include the business name for agents.\n",
    "        # But the following agents are known to have worked for ILMC that fiscal year.\n",
    "        visa_decisions[\"agent_name\"].str.contains(r\"THERESA.* WARD|CHRISTI TABAR*|DANIEL FARRELL\", na=False) &\n",
    "        (visa_decisions[\"fiscal_year\"] == 2013)\n",
    "    )\n",
    ")\n",
    "\n",
    "ilmc_case_numbers = visa_decisions[visa_decisions[\"is_ilmc\"]][\"case_no\"].unique()\n",
    "\n",
    "visa_decisions.loc[(\n",
    "    visa_decisions[\"case_no\"].isin(ilmc_case_numbers) &\n",
    "    visa_decisions[\"agent_name\"].isnull()\n",
    "), \"is_ilmc\"] = True"
   ]
  },
  {
   "cell_type": "markdown",
   "metadata": {},
   "source": [
    "### The Labor Company"
   ]
  },
  {
   "cell_type": "code",
   "execution_count": 7,
   "metadata": {
    "collapsed": true
   },
   "outputs": [],
   "source": [
    "labor_company_pat = r\"THE LABOR COMP\"\n",
    "visa_decisions[\"is_the_labor_company\"] = (\n",
    "    visa_decisions[\"agent_name\"].str.contains(labor_company_pat, na=False) |\n",
    "    visa_decisions[\"employer_name\"].str.contains(labor_company_pat, na=False) |\n",
    "    (\n",
    "        visa_decisions[\"agent_name\"].str.contains(r\"EVELYN .*WRIGHT|AMANDA .*WRIGHT\", na=False) &\n",
    "        (visa_decisions[\"fiscal_year\"] >= 2007)\n",
    "    )\n",
    ")\n",
    "\n",
    "the_labor_company_case_numbers = visa_decisions[visa_decisions[\"is_the_labor_company\"]][\"case_no\"].unique()\n",
    "\n",
    "visa_decisions.loc[(\n",
    "    visa_decisions[\"case_no\"].isin(the_labor_company_case_numbers) &\n",
    "    visa_decisions[\"agent_name\"].isnull()\n",
    "), \"is_the_labor_company\"] = True"
   ]
  },
  {
   "cell_type": "markdown",
   "metadata": {},
   "source": [
    "### Other Eury-associated certification applications"
   ]
  },
  {
   "cell_type": "code",
   "execution_count": 8,
   "metadata": {
    "collapsed": true
   },
   "outputs": [],
   "source": [
    "eury_pat = r\"STAN.*EURY|CRAIG.*EURY\""
   ]
  },
  {
   "cell_type": "code",
   "execution_count": 9,
   "metadata": {
    "collapsed": false
   },
   "outputs": [],
   "source": [
    "visa_decisions[\"is_eury_related\"] = (\n",
    "    visa_decisions[\"is_ncga\"] |\n",
    "    visa_decisions[\"is_ilmc\"] |\n",
    "    visa_decisions[\"is_the_labor_company\"] |\n",
    "    visa_decisions[\"agent_name\"].str.contains(eury_pat, na=False)\n",
    ")"
   ]
  },
  {
   "cell_type": "code",
   "execution_count": 10,
   "metadata": {
    "collapsed": true
   },
   "outputs": [],
   "source": [
    "eury_case_numbers = visa_decisions[visa_decisions[\"is_eury_related\"]][\"case_no\"].unique()\n",
    "visa_decisions.loc[(\n",
    "    visa_decisions[\"case_no\"].isin(eury_case_numbers) &\n",
    "    visa_decisions[\"agent_name\"].isnull()\n",
    "), \"is_eury_related\"] = True"
   ]
  },
  {
   "cell_type": "markdown",
   "metadata": {},
   "source": [
    "The code below [outputs a spreadsheet](https://github.com/BuzzFeedNews/2015-12-ncga-eury/tree/master/output/eury-related-agents.csv) of all the visa agents listed on applications BuzzFeed News has classified as `is_eury_related`."
   ]
  },
  {
   "cell_type": "code",
   "execution_count": 11,
   "metadata": {
    "collapsed": false
   },
   "outputs": [],
   "source": [
    "visa_decisions[\n",
    "    visa_decisions[\"is_eury_related\"]\n",
    "].groupby([ \"agent_name\" ])[\"n_certified\"].sum()\\\n",
    "    .to_frame()\\\n",
    "    .to_csv(\"../output/eury-related-agents.csv\", encoding=\"utf-8\")"
   ]
  },
  {
   "cell_type": "markdown",
   "metadata": {},
   "source": [
    "# Analyses"
   ]
  },
  {
   "cell_type": "markdown",
   "metadata": {
    "collapsed": true
   },
   "source": [
    "## \"[...] over more than a quarter of a century, [Eury] has been responsible for procuring hundreds of thousands of Mexican workers on H-2 visas [...]\""
   ]
  },
  {
   "cell_type": "markdown",
   "metadata": {},
   "source": [
    "The Office of Foreign Labor Certification has published data on H-2A certification decisions since FY 2006 and on H-2B since FY 2000. But even in the limited time for which data on both visa types are available — FY 2006 - FY 2015 — Eury-controlled businesses have received approval for at least 213,000 H-2 visas:"
   ]
  },
  {
   "cell_type": "code",
   "execution_count": 12,
   "metadata": {
    "collapsed": false,
    "scrolled": false
   },
   "outputs": [
    {
     "data": {
      "text/plain": [
       "213899"
      ]
     },
     "execution_count": 12,
     "metadata": {},
     "output_type": "execute_result"
    }
   ],
   "source": [
    "eury_count_since_fy2006 = visa_decisions[\n",
    "    (visa_decisions[\"is_eury_related\"] == True) &\n",
    "    (visa_decisions[\"is_duplicate\"] != True) &\n",
    "    (visa_decisions[\"fiscal_year\"] >= 2006)\n",
    "][\"n_certified\"].sum()\n",
    "eury_count_since_fy2006"
   ]
  },
  {
   "cell_type": "code",
   "execution_count": 13,
   "metadata": {
    "collapsed": false
   },
   "outputs": [
    {
     "name": "stdout",
     "output_type": "stream",
     "text": [
      "Eury's businesses have received approximately 9.2% of all H-2 certifications issued since FY 2006.\n"
     ]
    }
   ],
   "source": [
    "all_count_since_fy2006 = visa_decisions[\n",
    "    (visa_decisions[\"is_duplicate\"] != True) &\n",
    "    (visa_decisions[\"fiscal_year\"] >= 2006)\n",
    "][\"n_certified\"].sum()\n",
    "\n",
    "print((\n",
    "\"Eury's businesses have received approximately {0:.1f}% \"\n",
    "\"of all H-2 certifications issued since FY 2006.\"\n",
    ").format(100 * eury_count_since_fy2006 / all_count_since_fy2006))"
   ]
  },
  {
   "cell_type": "markdown",
   "metadata": {},
   "source": [
    "## \"Last year, Eury’s companies were approved for more than 20,000 visas [...]\""
   ]
  },
  {
   "cell_type": "code",
   "execution_count": 14,
   "metadata": {
    "collapsed": false
   },
   "outputs": [
    {
     "data": {
      "text/plain": [
       "calendar_year\n",
       "2010    18394\n",
       "2011    18085\n",
       "2012    18991\n",
       "2013    19773\n",
       "2014    20216\n",
       "2015    13817\n",
       "Name: n_certified, dtype: int64"
      ]
     },
     "execution_count": 14,
     "metadata": {},
     "output_type": "execute_result"
    }
   ],
   "source": [
    "visa_decisions[\n",
    "    (visa_decisions[\"is_eury_related\"]) &\n",
    "    (visa_decisions[\"is_duplicate\"] != True) &\n",
    "    (visa_decisions[\"calendar_year\"] >= 2010)\n",
    "].groupby([\"calendar_year\"])[\"n_certified\"].sum()"
   ]
  },
  {
   "cell_type": "markdown",
   "metadata": {},
   "source": [
    "## \"Soon [ILMC] was helping clients gain approval for thousands of visas every year.\""
   ]
  },
  {
   "cell_type": "code",
   "execution_count": 15,
   "metadata": {
    "collapsed": false
   },
   "outputs": [
    {
     "data": {
      "text/html": [
       "<div>\n",
       "<table border=\"1\" class=\"dataframe\">\n",
       "  <thead>\n",
       "    <tr style=\"text-align: right;\">\n",
       "      <th></th>\n",
       "      <th>n_certified</th>\n",
       "    </tr>\n",
       "    <tr>\n",
       "      <th>fiscal_year</th>\n",
       "      <th></th>\n",
       "    </tr>\n",
       "  </thead>\n",
       "  <tbody>\n",
       "    <tr>\n",
       "      <th>2000</th>\n",
       "      <td>9396</td>\n",
       "    </tr>\n",
       "    <tr>\n",
       "      <th>2001</th>\n",
       "      <td>4371</td>\n",
       "    </tr>\n",
       "    <tr>\n",
       "      <th>2002</th>\n",
       "      <td>4271</td>\n",
       "    </tr>\n",
       "    <tr>\n",
       "      <th>2003</th>\n",
       "      <td>4795</td>\n",
       "    </tr>\n",
       "    <tr>\n",
       "      <th>2004</th>\n",
       "      <td>4796</td>\n",
       "    </tr>\n",
       "    <tr>\n",
       "      <th>2005</th>\n",
       "      <td>5342</td>\n",
       "    </tr>\n",
       "    <tr>\n",
       "      <th>2006</th>\n",
       "      <td>5139</td>\n",
       "    </tr>\n",
       "    <tr>\n",
       "      <th>2007</th>\n",
       "      <td>4776</td>\n",
       "    </tr>\n",
       "    <tr>\n",
       "      <th>2008</th>\n",
       "      <td>5200</td>\n",
       "    </tr>\n",
       "    <tr>\n",
       "      <th>2009</th>\n",
       "      <td>4569</td>\n",
       "    </tr>\n",
       "  </tbody>\n",
       "</table>\n",
       "</div>"
      ],
      "text/plain": [
       "             n_certified\n",
       "fiscal_year             \n",
       "2000                9396\n",
       "2001                4371\n",
       "2002                4271\n",
       "2003                4795\n",
       "2004                4796\n",
       "2005                5342\n",
       "2006                5139\n",
       "2007                4776\n",
       "2008                5200\n",
       "2009                4569"
      ]
     },
     "execution_count": 15,
     "metadata": {},
     "output_type": "execute_result"
    }
   ],
   "source": [
    "pd.DataFrame(visa_decisions[\n",
    "    (visa_decisions[\"is_ilmc\"]) &\n",
    "    (visa_decisions[\"visa_type\"] == \"H-2B\") &\n",
    "    (visa_decisions[\"is_duplicate\"] != True) &\n",
    "    (visa_decisions[\"fiscal_year\"] <= 2009)\n",
    "].groupby([ \"fiscal_year\" ])[\"n_certified\"].sum())"
   ]
  },
  {
   "cell_type": "markdown",
   "metadata": {},
   "source": [
    "## \"[...] the North Carolina Growers Association often requested more than 80% of all agricultural guest worker visas in North Carolina.\""
   ]
  },
  {
   "cell_type": "markdown",
   "metadata": {},
   "source": [
    "Percentage of NC-worksite H-2A visas certified for NCGA and NCGA clients, by fiscal year:"
   ]
  },
  {
   "cell_type": "code",
   "execution_count": 16,
   "metadata": {
    "collapsed": false
   },
   "outputs": [],
   "source": [
    "grp = visa_decisions[\n",
    "    (visa_decisions[\"visa_type\"] == \"H-2A\") &\n",
    "    (visa_decisions[\"worksite_state\"] == \"NC\") &\n",
    "    (visa_decisions[\"is_duplicate\"] != True) &\n",
    "    (visa_decisions[\"fiscal_year\"] >= 2007)\n",
    "].groupby([ \"fiscal_year\", \"is_ncga\" ])"
   ]
  },
  {
   "cell_type": "code",
   "execution_count": 17,
   "metadata": {
    "collapsed": false
   },
   "outputs": [
    {
     "data": {
      "text/html": [
       "<div>\n",
       "<table border=\"1\" class=\"dataframe\">\n",
       "  <thead>\n",
       "    <tr style=\"text-align: right;\">\n",
       "      <th>is_ncga</th>\n",
       "      <th>non-NCGA</th>\n",
       "      <th>NCGA</th>\n",
       "      <th>total</th>\n",
       "      <th>NCGA_pct</th>\n",
       "    </tr>\n",
       "    <tr>\n",
       "      <th>fiscal_year</th>\n",
       "      <th></th>\n",
       "      <th></th>\n",
       "      <th></th>\n",
       "      <th></th>\n",
       "    </tr>\n",
       "  </thead>\n",
       "  <tbody>\n",
       "    <tr>\n",
       "      <th>2007</th>\n",
       "      <td>1633</td>\n",
       "      <td>14379</td>\n",
       "      <td>16012</td>\n",
       "      <td>89.8</td>\n",
       "    </tr>\n",
       "    <tr>\n",
       "      <th>2008</th>\n",
       "      <td>1547</td>\n",
       "      <td>7580</td>\n",
       "      <td>9127</td>\n",
       "      <td>83.1</td>\n",
       "    </tr>\n",
       "    <tr>\n",
       "      <th>2009</th>\n",
       "      <td>1486</td>\n",
       "      <td>7242</td>\n",
       "      <td>8728</td>\n",
       "      <td>83.0</td>\n",
       "    </tr>\n",
       "    <tr>\n",
       "      <th>2010</th>\n",
       "      <td>1418</td>\n",
       "      <td>8375</td>\n",
       "      <td>9793</td>\n",
       "      <td>85.5</td>\n",
       "    </tr>\n",
       "    <tr>\n",
       "      <th>2011</th>\n",
       "      <td>1260</td>\n",
       "      <td>7877</td>\n",
       "      <td>9137</td>\n",
       "      <td>86.2</td>\n",
       "    </tr>\n",
       "    <tr>\n",
       "      <th>2012</th>\n",
       "      <td>1841</td>\n",
       "      <td>8657</td>\n",
       "      <td>10498</td>\n",
       "      <td>82.5</td>\n",
       "    </tr>\n",
       "    <tr>\n",
       "      <th>2013</th>\n",
       "      <td>2749</td>\n",
       "      <td>9637</td>\n",
       "      <td>12386</td>\n",
       "      <td>77.8</td>\n",
       "    </tr>\n",
       "    <tr>\n",
       "      <th>2014</th>\n",
       "      <td>3714</td>\n",
       "      <td>11421</td>\n",
       "      <td>15135</td>\n",
       "      <td>75.5</td>\n",
       "    </tr>\n",
       "    <tr>\n",
       "      <th>2015</th>\n",
       "      <td>5942</td>\n",
       "      <td>11754</td>\n",
       "      <td>17696</td>\n",
       "      <td>66.4</td>\n",
       "    </tr>\n",
       "  </tbody>\n",
       "</table>\n",
       "</div>"
      ],
      "text/plain": [
       "is_ncga      non-NCGA   NCGA  total  NCGA_pct\n",
       "fiscal_year                                  \n",
       "2007             1633  14379  16012      89.8\n",
       "2008             1547   7580   9127      83.1\n",
       "2009             1486   7242   8728      83.0\n",
       "2010             1418   8375   9793      85.5\n",
       "2011             1260   7877   9137      86.2\n",
       "2012             1841   8657  10498      82.5\n",
       "2013             2749   9637  12386      77.8\n",
       "2014             3714  11421  15135      75.5\n",
       "2015             5942  11754  17696      66.4"
      ]
     },
     "execution_count": 17,
     "metadata": {},
     "output_type": "execute_result"
    }
   ],
   "source": [
    "nc_certified_by_fy = grp[\"n_certified\"].sum()\\\n",
    "    .unstack()\\\n",
    "    .fillna(0)\\\n",
    "    .rename(columns={ True: \"NCGA\", False: \"non-NCGA\" })\n",
    "nc_certified_by_fy[\"total\"] = nc_certified_by_fy.sum(axis=1)\n",
    "nc_certified_by_fy[\"NCGA_pct\"] = (100.0 * nc_certified_by_fy[\"NCGA\"] / nc_certified_by_fy[\"total\"]).round(1)\n",
    "nc_certified_by_fy"
   ]
  },
  {
   "cell_type": "markdown",
   "metadata": {},
   "source": [
    "Many years of the OFLC data lack information on the number of workers requested. Partial certifications, however, are fairly rare, and the proportions of workers-requested are nearly identical to those of workers-certified for the years for which OFLC publishes both fields:"
   ]
  },
  {
   "cell_type": "code",
   "execution_count": 18,
   "metadata": {
    "collapsed": false
   },
   "outputs": [
    {
     "data": {
      "text/html": [
       "<div>\n",
       "<table border=\"1\" class=\"dataframe\">\n",
       "  <thead>\n",
       "    <tr style=\"text-align: right;\">\n",
       "      <th>is_ncga</th>\n",
       "      <th>non-NCGA</th>\n",
       "      <th>NCGA</th>\n",
       "      <th>total</th>\n",
       "      <th>NCGA_pct</th>\n",
       "    </tr>\n",
       "    <tr>\n",
       "      <th>fiscal_year</th>\n",
       "      <th></th>\n",
       "      <th></th>\n",
       "      <th></th>\n",
       "      <th></th>\n",
       "    </tr>\n",
       "  </thead>\n",
       "  <tbody>\n",
       "    <tr>\n",
       "      <th>2007</th>\n",
       "      <td>1705</td>\n",
       "      <td>14379</td>\n",
       "      <td>16084</td>\n",
       "      <td>89.4</td>\n",
       "    </tr>\n",
       "    <tr>\n",
       "      <th>2011</th>\n",
       "      <td>1305</td>\n",
       "      <td>7891</td>\n",
       "      <td>9196</td>\n",
       "      <td>85.8</td>\n",
       "    </tr>\n",
       "    <tr>\n",
       "      <th>2012</th>\n",
       "      <td>1893</td>\n",
       "      <td>8660</td>\n",
       "      <td>10553</td>\n",
       "      <td>82.1</td>\n",
       "    </tr>\n",
       "    <tr>\n",
       "      <th>2015</th>\n",
       "      <td>6251</td>\n",
       "      <td>11757</td>\n",
       "      <td>18008</td>\n",
       "      <td>65.3</td>\n",
       "    </tr>\n",
       "  </tbody>\n",
       "</table>\n",
       "</div>"
      ],
      "text/plain": [
       "is_ncga      non-NCGA   NCGA  total  NCGA_pct\n",
       "fiscal_year                                  \n",
       "2007             1705  14379  16084      89.4\n",
       "2011             1305   7891   9196      85.8\n",
       "2012             1893   8660  10553      82.1\n",
       "2015             6251  11757  18008      65.3"
      ]
     },
     "execution_count": 18,
     "metadata": {},
     "output_type": "execute_result"
    }
   ],
   "source": [
    "nc_requested_by_fy = grp[\"n_requested\"].sum()\\\n",
    "    .unstack()\\\n",
    "    .rename(columns={ True: \"NCGA\", False: \"non-NCGA\" })\n",
    "nc_requested_by_fy[\"total\"] = nc_requested_by_fy.sum(axis=1)\n",
    "nc_requested_by_fy[\"NCGA_pct\"] = (100.0 * nc_requested_by_fy[\"NCGA\"] / nc_requested_by_fy[\"total\"]).round(1)\n",
    "nc_requested_by_fy.dropna(subset=[\"total\"])"
   ]
  },
  {
   "cell_type": "markdown",
   "metadata": {},
   "source": [
    "Note: OFLC data for FY 2006 H-2A data does not include worksite state. Overall pct., Jan. 2007 – Sept. 2015:"
   ]
  },
  {
   "cell_type": "code",
   "execution_count": 19,
   "metadata": {
    "collapsed": false
   },
   "outputs": [
    {
     "data": {
      "text/html": [
       "<div>\n",
       "<table border=\"1\" class=\"dataframe\">\n",
       "  <thead>\n",
       "    <tr style=\"text-align: right;\">\n",
       "      <th>is_ncga</th>\n",
       "      <th>non-NCGA</th>\n",
       "      <th>NCGA</th>\n",
       "      <th>total</th>\n",
       "      <th>NCGA_pct</th>\n",
       "    </tr>\n",
       "  </thead>\n",
       "  <tbody>\n",
       "    <tr>\n",
       "      <th>n_certified</th>\n",
       "      <td>21584</td>\n",
       "      <td>86888</td>\n",
       "      <td>108472</td>\n",
       "      <td>80.1</td>\n",
       "    </tr>\n",
       "  </tbody>\n",
       "</table>\n",
       "</div>"
      ],
      "text/plain": [
       "is_ncga      non-NCGA   NCGA   total  NCGA_pct\n",
       "n_certified     21584  86888  108472      80.1"
      ]
     },
     "execution_count": 19,
     "metadata": {},
     "output_type": "execute_result"
    }
   ],
   "source": [
    "grp = visa_decisions[\n",
    "    (visa_decisions[\"visa_type\"] == \"H-2A\") &\n",
    "    (visa_decisions[\"worksite_state\"] == \"NC\") &\n",
    "    (visa_decisions[\"is_duplicate\"] != True) &\n",
    "    (visa_decisions[\"calendar_year\"] >= 2007)\n",
    "].groupby([ \"is_ncga\" ])\n",
    "\n",
    "nc_certified_since_fy2007 = pd.DataFrame(grp[\"n_certified\"].sum()\\\n",
    "    .fillna(0)).T\\\n",
    "    .rename(columns={ True: \"NCGA\", False: \"non-NCGA\" })\n",
    "nc_certified_since_fy2007[\"total\"] = nc_certified_since_fy2007.sum(axis=1)\n",
    "nc_certified_since_fy2007[\"NCGA_pct\"] = (100.0 * nc_certified_since_fy2007[\"NCGA\"] / nc_certified_since_fy2007[\"total\"]).round(1)\n",
    "nc_certified_since_fy2007"
   ]
  },
  {
   "cell_type": "markdown",
   "metadata": {},
   "source": [
    "## \"For years, employers in North Carolina obtained approvals for more such guest worker visas than employers in any other state.\""
   ]
  },
  {
   "cell_type": "markdown",
   "metadata": {},
   "source": [
    "Number of H-2A visas per worksite-state and fiscal year:"
   ]
  },
  {
   "cell_type": "code",
   "execution_count": 20,
   "metadata": {
    "collapsed": false
   },
   "outputs": [],
   "source": [
    "fiscal_year_by_state = visa_decisions[\n",
    "    (visa_decisions[\"is_duplicate\"] != True) &\n",
    "    (visa_decisions[\"visa_type\"] == \"H-2A\")\n",
    "].groupby([ \"worksite_state\", \"fiscal_year\" ])[\"n_certified\"].sum()\\\n",
    "    .unstack().fillna(0)"
   ]
  },
  {
   "cell_type": "code",
   "execution_count": 21,
   "metadata": {
    "collapsed": false
   },
   "outputs": [
    {
     "data": {
      "text/html": [
       "<div>\n",
       "<table border=\"1\" class=\"dataframe\">\n",
       "  <thead>\n",
       "    <tr style=\"text-align: right;\">\n",
       "      <th>fiscal_year</th>\n",
       "      <th>2007</th>\n",
       "      <th>2008</th>\n",
       "      <th>2009</th>\n",
       "      <th>2010</th>\n",
       "      <th>2011</th>\n",
       "      <th>2012</th>\n",
       "      <th>2013</th>\n",
       "      <th>2014</th>\n",
       "      <th>2015</th>\n",
       "    </tr>\n",
       "    <tr>\n",
       "      <th>worksite_state</th>\n",
       "      <th></th>\n",
       "      <th></th>\n",
       "      <th></th>\n",
       "      <th></th>\n",
       "      <th></th>\n",
       "      <th></th>\n",
       "      <th></th>\n",
       "      <th></th>\n",
       "      <th></th>\n",
       "    </tr>\n",
       "  </thead>\n",
       "  <tbody>\n",
       "    <tr>\n",
       "      <th>VT</th>\n",
       "      <td>450</td>\n",
       "      <td>501</td>\n",
       "      <td>452</td>\n",
       "      <td>436</td>\n",
       "      <td>449</td>\n",
       "      <td>418</td>\n",
       "      <td>465</td>\n",
       "      <td>496</td>\n",
       "      <td>507</td>\n",
       "    </tr>\n",
       "    <tr>\n",
       "      <th>WA</th>\n",
       "      <td>1994</td>\n",
       "      <td>2573</td>\n",
       "      <td>1984</td>\n",
       "      <td>3013</td>\n",
       "      <td>3194</td>\n",
       "      <td>4443</td>\n",
       "      <td>6251</td>\n",
       "      <td>9064</td>\n",
       "      <td>11844</td>\n",
       "    </tr>\n",
       "    <tr>\n",
       "      <th>WI</th>\n",
       "      <td>170</td>\n",
       "      <td>332</td>\n",
       "      <td>391</td>\n",
       "      <td>141</td>\n",
       "      <td>126</td>\n",
       "      <td>171</td>\n",
       "      <td>176</td>\n",
       "      <td>492</td>\n",
       "      <td>448</td>\n",
       "    </tr>\n",
       "    <tr>\n",
       "      <th>WV</th>\n",
       "      <td>39</td>\n",
       "      <td>37</td>\n",
       "      <td>48</td>\n",
       "      <td>42</td>\n",
       "      <td>38</td>\n",
       "      <td>134</td>\n",
       "      <td>34</td>\n",
       "      <td>37</td>\n",
       "      <td>72</td>\n",
       "    </tr>\n",
       "    <tr>\n",
       "      <th>WY</th>\n",
       "      <td>494</td>\n",
       "      <td>396</td>\n",
       "      <td>358</td>\n",
       "      <td>385</td>\n",
       "      <td>279</td>\n",
       "      <td>319</td>\n",
       "      <td>301</td>\n",
       "      <td>309</td>\n",
       "      <td>326</td>\n",
       "    </tr>\n",
       "  </tbody>\n",
       "</table>\n",
       "</div>"
      ],
      "text/plain": [
       "fiscal_year     2007  2008  2009  2010  2011  2012  2013  2014   2015\n",
       "worksite_state                                                       \n",
       "VT               450   501   452   436   449   418   465   496    507\n",
       "WA              1994  2573  1984  3013  3194  4443  6251  9064  11844\n",
       "WI               170   332   391   141   126   171   176   492    448\n",
       "WV                39    37    48    42    38   134    34    37     72\n",
       "WY               494   396   358   385   279   319   301   309    326"
      ]
     },
     "execution_count": 21,
     "metadata": {},
     "output_type": "execute_result"
    }
   ],
   "source": [
    "fiscal_year_by_state.tail()"
   ]
  },
  {
   "cell_type": "markdown",
   "metadata": {},
   "source": [
    "North Carolina's rank, by fiscal year:"
   ]
  },
  {
   "cell_type": "code",
   "execution_count": 22,
   "metadata": {
    "collapsed": false
   },
   "outputs": [
    {
     "data": {
      "text/html": [
       "<div>\n",
       "<table border=\"1\" class=\"dataframe\">\n",
       "  <thead>\n",
       "    <tr style=\"text-align: right;\">\n",
       "      <th></th>\n",
       "      <th>NC</th>\n",
       "    </tr>\n",
       "    <tr>\n",
       "      <th>fiscal_year</th>\n",
       "      <th></th>\n",
       "    </tr>\n",
       "  </thead>\n",
       "  <tbody>\n",
       "    <tr>\n",
       "      <th>2007</th>\n",
       "      <td>1</td>\n",
       "    </tr>\n",
       "    <tr>\n",
       "      <th>2008</th>\n",
       "      <td>1</td>\n",
       "    </tr>\n",
       "    <tr>\n",
       "      <th>2009</th>\n",
       "      <td>1</td>\n",
       "    </tr>\n",
       "    <tr>\n",
       "      <th>2010</th>\n",
       "      <td>1</td>\n",
       "    </tr>\n",
       "    <tr>\n",
       "      <th>2011</th>\n",
       "      <td>1</td>\n",
       "    </tr>\n",
       "    <tr>\n",
       "      <th>2012</th>\n",
       "      <td>1</td>\n",
       "    </tr>\n",
       "    <tr>\n",
       "      <th>2013</th>\n",
       "      <td>1</td>\n",
       "    </tr>\n",
       "    <tr>\n",
       "      <th>2014</th>\n",
       "      <td>1</td>\n",
       "    </tr>\n",
       "    <tr>\n",
       "      <th>2015</th>\n",
       "      <td>2</td>\n",
       "    </tr>\n",
       "  </tbody>\n",
       "</table>\n",
       "</div>"
      ],
      "text/plain": [
       "             NC\n",
       "fiscal_year    \n",
       "2007          1\n",
       "2008          1\n",
       "2009          1\n",
       "2010          1\n",
       "2011          1\n",
       "2012          1\n",
       "2013          1\n",
       "2014          1\n",
       "2015          2"
      ]
     },
     "execution_count": 22,
     "metadata": {},
     "output_type": "execute_result"
    }
   ],
   "source": [
    "pd.DataFrame(fiscal_year_by_state.rank(ascending=False).ix[\"NC\"])"
   ]
  },
  {
   "cell_type": "markdown",
   "metadata": {},
   "source": [
    "## \"In the 12-month period starting July 2014, the growers association got permission to import more than 12,000 guest workers for jobs in North Carolina.\""
   ]
  },
  {
   "cell_type": "code",
   "execution_count": 23,
   "metadata": {
    "collapsed": false
   },
   "outputs": [
    {
     "data": {
      "text/plain": [
       "12034"
      ]
     },
     "execution_count": 23,
     "metadata": {},
     "output_type": "execute_result"
    }
   ],
   "source": [
    "visa_decisions[\n",
    "    visa_decisions[\"is_ncga\"] &\n",
    "    (visa_decisions[\"is_duplicate\"] != True) &\n",
    "    (visa_decisions[\"last_event_date\"] >= \"2014-07-01\") &\n",
    "    (visa_decisions[\"last_event_date\"] < \"2015-07-01\")\n",
    "][\"n_certified\"].sum()"
   ]
  },
  {
   "cell_type": "markdown",
   "metadata": {},
   "source": [
    "## \"Even with more competition, in 2011, [Eury] was still responsible for securing one in eight of all H-2 guest worker visa certifications.\""
   ]
  },
  {
   "cell_type": "code",
   "execution_count": 24,
   "metadata": {
    "collapsed": false
   },
   "outputs": [
    {
     "data": {
      "text/html": [
       "<div>\n",
       "<table border=\"1\" class=\"dataframe\">\n",
       "  <thead>\n",
       "    <tr style=\"text-align: right;\">\n",
       "      <th>is_eury_related</th>\n",
       "      <th>non-Eury</th>\n",
       "      <th>Eury</th>\n",
       "      <th>total</th>\n",
       "      <th>eury_pct</th>\n",
       "    </tr>\n",
       "    <tr>\n",
       "      <th>calendar_year</th>\n",
       "      <th></th>\n",
       "      <th></th>\n",
       "      <th></th>\n",
       "      <th></th>\n",
       "    </tr>\n",
       "  </thead>\n",
       "  <tbody>\n",
       "    <tr>\n",
       "      <th>2009</th>\n",
       "      <td>193390</td>\n",
       "      <td>23955</td>\n",
       "      <td>217345</td>\n",
       "      <td>11.0</td>\n",
       "    </tr>\n",
       "    <tr>\n",
       "      <th>2010</th>\n",
       "      <td>144908</td>\n",
       "      <td>18394</td>\n",
       "      <td>163302</td>\n",
       "      <td>11.3</td>\n",
       "    </tr>\n",
       "    <tr>\n",
       "      <th>2011</th>\n",
       "      <td>126517</td>\n",
       "      <td>18085</td>\n",
       "      <td>144602</td>\n",
       "      <td>12.5</td>\n",
       "    </tr>\n",
       "    <tr>\n",
       "      <th>2012</th>\n",
       "      <td>154093</td>\n",
       "      <td>18991</td>\n",
       "      <td>173084</td>\n",
       "      <td>11.0</td>\n",
       "    </tr>\n",
       "    <tr>\n",
       "      <th>2013</th>\n",
       "      <td>154983</td>\n",
       "      <td>19773</td>\n",
       "      <td>174756</td>\n",
       "      <td>11.3</td>\n",
       "    </tr>\n",
       "    <tr>\n",
       "      <th>2014</th>\n",
       "      <td>205852</td>\n",
       "      <td>20216</td>\n",
       "      <td>226068</td>\n",
       "      <td>8.9</td>\n",
       "    </tr>\n",
       "    <tr>\n",
       "      <th>2015</th>\n",
       "      <td>177008</td>\n",
       "      <td>13817</td>\n",
       "      <td>190825</td>\n",
       "      <td>7.2</td>\n",
       "    </tr>\n",
       "  </tbody>\n",
       "</table>\n",
       "</div>"
      ],
      "text/plain": [
       "is_eury_related  non-Eury   Eury   total  eury_pct\n",
       "calendar_year                                     \n",
       "2009               193390  23955  217345      11.0\n",
       "2010               144908  18394  163302      11.3\n",
       "2011               126517  18085  144602      12.5\n",
       "2012               154093  18991  173084      11.0\n",
       "2013               154983  19773  174756      11.3\n",
       "2014               205852  20216  226068       8.9\n",
       "2015               177008  13817  190825       7.2"
      ]
     },
     "execution_count": 24,
     "metadata": {},
     "output_type": "execute_result"
    }
   ],
   "source": [
    "eury_by_year = visa_decisions[\n",
    "    (visa_decisions[\"is_duplicate\"] != True) &\n",
    "    (visa_decisions[\"calendar_year\"] >= 2009)\n",
    "].groupby([ \"calendar_year\", \"is_eury_related\" ])[\"n_certified\"].sum()\\\n",
    "    .unstack()\\\n",
    "    .fillna(0)\\\n",
    "    .rename(columns={ True: \"Eury\", False: \"non-Eury\" })\n",
    "eury_by_year[\"total\"] = eury_by_year.sum(axis=1)\n",
    "eury_by_year[\"eury_pct\"] = (100.0 * eury_by_year[\"Eury\"] / eury_by_year[\"total\"]).round(1)\n",
    "eury_by_year"
   ]
  },
  {
   "cell_type": "markdown",
   "metadata": {},
   "source": [
    "## \"In a typical year, [Eury's] companies meet the labor needs of clients across more than 20 states.\""
   ]
  },
  {
   "cell_type": "code",
   "execution_count": 25,
   "metadata": {
    "collapsed": false
   },
   "outputs": [
    {
     "data": {
      "text/html": [
       "<div>\n",
       "<table border=\"1\" class=\"dataframe\">\n",
       "  <thead>\n",
       "    <tr style=\"text-align: right;\">\n",
       "      <th></th>\n",
       "      <th>n_states</th>\n",
       "      <th>states</th>\n",
       "    </tr>\n",
       "    <tr>\n",
       "      <th>fiscal_year</th>\n",
       "      <th></th>\n",
       "      <th></th>\n",
       "    </tr>\n",
       "  </thead>\n",
       "  <tbody>\n",
       "    <tr>\n",
       "      <th>2007</th>\n",
       "      <td>36</td>\n",
       "      <td>AL • AR • CA • CO • CT • FL • GA • IA • IL • I...</td>\n",
       "    </tr>\n",
       "    <tr>\n",
       "      <th>2008</th>\n",
       "      <td>32</td>\n",
       "      <td>AL • AR • CA • CO • CT • FL • GA • IA • IL • I...</td>\n",
       "    </tr>\n",
       "    <tr>\n",
       "      <th>2009</th>\n",
       "      <td>32</td>\n",
       "      <td>AL • AR • CA • CO • CT • FL • GA • IA • IL • I...</td>\n",
       "    </tr>\n",
       "    <tr>\n",
       "      <th>2010</th>\n",
       "      <td>33</td>\n",
       "      <td>AL • AR • CA • CO • DE • FL • GA • IA • IL • I...</td>\n",
       "    </tr>\n",
       "    <tr>\n",
       "      <th>2011</th>\n",
       "      <td>31</td>\n",
       "      <td>AL • AR • CA • CO • FL • GA • IA • IL • IN • K...</td>\n",
       "    </tr>\n",
       "    <tr>\n",
       "      <th>2012</th>\n",
       "      <td>31</td>\n",
       "      <td>AL • AR • CO • FL • GA • IA • IL • IN • KY • L...</td>\n",
       "    </tr>\n",
       "    <tr>\n",
       "      <th>2013</th>\n",
       "      <td>28</td>\n",
       "      <td>AL • AR • CO • FL • GA • IA • IL • IN • KY • L...</td>\n",
       "    </tr>\n",
       "    <tr>\n",
       "      <th>2014</th>\n",
       "      <td>30</td>\n",
       "      <td>AL • AR • CA • CO • FL • GA • IA • IL • IN • K...</td>\n",
       "    </tr>\n",
       "    <tr>\n",
       "      <th>2015</th>\n",
       "      <td>20</td>\n",
       "      <td>AL • AR • CO • CT • FL • GA • IL • LA • MD • M...</td>\n",
       "    </tr>\n",
       "  </tbody>\n",
       "</table>\n",
       "</div>"
      ],
      "text/plain": [
       "             n_states                                             states\n",
       "fiscal_year                                                             \n",
       "2007               36  AL • AR • CA • CO • CT • FL • GA • IA • IL • I...\n",
       "2008               32  AL • AR • CA • CO • CT • FL • GA • IA • IL • I...\n",
       "2009               32  AL • AR • CA • CO • CT • FL • GA • IA • IL • I...\n",
       "2010               33  AL • AR • CA • CO • DE • FL • GA • IA • IL • I...\n",
       "2011               31  AL • AR • CA • CO • FL • GA • IA • IL • IN • K...\n",
       "2012               31  AL • AR • CO • FL • GA • IA • IL • IN • KY • L...\n",
       "2013               28  AL • AR • CO • FL • GA • IA • IL • IN • KY • L...\n",
       "2014               30  AL • AR • CA • CO • FL • GA • IA • IL • IN • K...\n",
       "2015               20  AL • AR • CO • CT • FL • GA • IL • LA • MD • M..."
      ]
     },
     "execution_count": 25,
     "metadata": {},
     "output_type": "execute_result"
    }
   ],
   "source": [
    "grp = visa_decisions[\n",
    "    (visa_decisions[\"is_eury_related\"] == True) &\n",
    "    (visa_decisions[\"n_certified\"] > 0) &\n",
    "    (visa_decisions[\"worksite_state\"].notnull())\n",
    "].groupby([ \"fiscal_year\" ])\n",
    "pd.DataFrame({\n",
    "    \"states\": grp.apply(lambda x: \" • \".join(sorted(x[\"worksite_state\"].astype(str).unique()))),\n",
    "    \"n_states\": grp[\"worksite_state\"].nunique(),\n",
    "})"
   ]
  },
  {
   "cell_type": "markdown",
   "metadata": {},
   "source": [
    "## \"The North Carolina Growers Association has continued to get visas approved for Walker Farms, more than 90 since Ordaz died, including 13 this year.\""
   ]
  },
  {
   "cell_type": "code",
   "execution_count": 26,
   "metadata": {
    "collapsed": false
   },
   "outputs": [
    {
     "data": {
      "text/html": [
       "<div>\n",
       "<table border=\"1\" class=\"dataframe\">\n",
       "  <thead>\n",
       "    <tr style=\"text-align: right;\">\n",
       "      <th></th>\n",
       "      <th>employer_name</th>\n",
       "      <th>employer_state</th>\n",
       "      <th>visa_type</th>\n",
       "      <th>fiscal_year</th>\n",
       "      <th>last_event_date</th>\n",
       "      <th>certification_begin_date</th>\n",
       "      <th>case_status</th>\n",
       "      <th>n_certified</th>\n",
       "    </tr>\n",
       "    <tr>\n",
       "      <th>case_no</th>\n",
       "      <th></th>\n",
       "      <th></th>\n",
       "      <th></th>\n",
       "      <th></th>\n",
       "      <th></th>\n",
       "      <th></th>\n",
       "      <th></th>\n",
       "      <th></th>\n",
       "    </tr>\n",
       "  </thead>\n",
       "  <tbody>\n",
       "    <tr>\n",
       "      <th>A-06060-00924</th>\n",
       "      <td>DANNY WALKER</td>\n",
       "      <td>NC</td>\n",
       "      <td>H-2A</td>\n",
       "      <td>2006</td>\n",
       "      <td>NaN</td>\n",
       "      <td>2006-04-15</td>\n",
       "      <td>CERTIFIED - FULL</td>\n",
       "      <td>3</td>\n",
       "    </tr>\n",
       "    <tr>\n",
       "      <th>A-06137-01534</th>\n",
       "      <td>DANNY WALKER</td>\n",
       "      <td>NC</td>\n",
       "      <td>H-2A</td>\n",
       "      <td>2006</td>\n",
       "      <td>NaN</td>\n",
       "      <td>NaN</td>\n",
       "      <td>INCOMPLETE</td>\n",
       "      <td>0</td>\n",
       "    </tr>\n",
       "    <tr>\n",
       "      <th>A-06138-01537</th>\n",
       "      <td>DANNY WALKER</td>\n",
       "      <td>NC</td>\n",
       "      <td>H-2A</td>\n",
       "      <td>2006</td>\n",
       "      <td>NaN</td>\n",
       "      <td>2006-07-01</td>\n",
       "      <td>CERTIFIED - FULL</td>\n",
       "      <td>3</td>\n",
       "    </tr>\n",
       "    <tr>\n",
       "      <th>A-07054-03309</th>\n",
       "      <td>DANNY WALKER</td>\n",
       "      <td>NC</td>\n",
       "      <td>H-2A</td>\n",
       "      <td>2007</td>\n",
       "      <td>2007-03-15</td>\n",
       "      <td>2007-04-12</td>\n",
       "      <td>CERTIFIED - FULL</td>\n",
       "      <td>4</td>\n",
       "    </tr>\n",
       "    <tr>\n",
       "      <th>A-07110-03899</th>\n",
       "      <td>DANNY WALKER</td>\n",
       "      <td>NC</td>\n",
       "      <td>H-2A</td>\n",
       "      <td>2007</td>\n",
       "      <td>2007-05-09</td>\n",
       "      <td>2007-06-05</td>\n",
       "      <td>CERTIFIED - FULL</td>\n",
       "      <td>4</td>\n",
       "    </tr>\n",
       "    <tr>\n",
       "      <th>A-08053-06049</th>\n",
       "      <td>DANNY WALKER</td>\n",
       "      <td>NC</td>\n",
       "      <td>H-2A</td>\n",
       "      <td>2008</td>\n",
       "      <td>2008-03-11</td>\n",
       "      <td>2008-04-10</td>\n",
       "      <td>CERTIFIED - FULL</td>\n",
       "      <td>4</td>\n",
       "    </tr>\n",
       "    <tr>\n",
       "      <th>A-08123-06789</th>\n",
       "      <td>DANNY WALKER</td>\n",
       "      <td>NC</td>\n",
       "      <td>H-2A</td>\n",
       "      <td>2008</td>\n",
       "      <td>2008-05-21</td>\n",
       "      <td>2008-06-19</td>\n",
       "      <td>CERTIFIED - FULL</td>\n",
       "      <td>4</td>\n",
       "    </tr>\n",
       "    <tr>\n",
       "      <th>C-09057-18303</th>\n",
       "      <td>DANNY WALKER</td>\n",
       "      <td>NC</td>\n",
       "      <td>H-2A</td>\n",
       "      <td>2009</td>\n",
       "      <td>2009-03-17</td>\n",
       "      <td>2009-04-16</td>\n",
       "      <td>CERTIFIED - FULL</td>\n",
       "      <td>8</td>\n",
       "    </tr>\n",
       "    <tr>\n",
       "      <th>C-10050-23238</th>\n",
       "      <td>DANNY WALKER</td>\n",
       "      <td>NC</td>\n",
       "      <td>H-2A</td>\n",
       "      <td>2010</td>\n",
       "      <td>2010-03-09</td>\n",
       "      <td>2010-04-08</td>\n",
       "      <td>CERTIFIED - FULL</td>\n",
       "      <td>5</td>\n",
       "    </tr>\n",
       "    <tr>\n",
       "      <th>C-10069-23709</th>\n",
       "      <td>DANNY WALKER</td>\n",
       "      <td>NC</td>\n",
       "      <td>H-2A</td>\n",
       "      <td>2010</td>\n",
       "      <td>2010-04-21</td>\n",
       "      <td>2010-05-20</td>\n",
       "      <td>CERTIFIED - FULL</td>\n",
       "      <td>3</td>\n",
       "    </tr>\n",
       "    <tr>\n",
       "      <th>C-11046-27744</th>\n",
       "      <td>DANNY WALKER</td>\n",
       "      <td>NC</td>\n",
       "      <td>H-2A</td>\n",
       "      <td>2011</td>\n",
       "      <td>2011-03-10</td>\n",
       "      <td>2011-04-12</td>\n",
       "      <td>CERTIFIED - PARTIAL</td>\n",
       "      <td>4</td>\n",
       "    </tr>\n",
       "    <tr>\n",
       "      <th>C-11123-29195</th>\n",
       "      <td>DANNY WALKER</td>\n",
       "      <td>NC</td>\n",
       "      <td>H-2A</td>\n",
       "      <td>2011</td>\n",
       "      <td>2011-05-26</td>\n",
       "      <td>2011-06-28</td>\n",
       "      <td>CERTIFIED - FULL</td>\n",
       "      <td>4</td>\n",
       "    </tr>\n",
       "    <tr>\n",
       "      <th>C-12045-32764</th>\n",
       "      <td>DANNY WALKER</td>\n",
       "      <td>NC</td>\n",
       "      <td>H-2A</td>\n",
       "      <td>2012</td>\n",
       "      <td>2012-03-13</td>\n",
       "      <td>2012-04-12</td>\n",
       "      <td>CERTIFIED - FULL</td>\n",
       "      <td>5</td>\n",
       "    </tr>\n",
       "    <tr>\n",
       "      <th>C-12109-34139</th>\n",
       "      <td>DANNY WALKER</td>\n",
       "      <td>NC</td>\n",
       "      <td>H-2A</td>\n",
       "      <td>2012</td>\n",
       "      <td>2012-05-16</td>\n",
       "      <td>2012-06-14</td>\n",
       "      <td>CERTIFIED - FULL</td>\n",
       "      <td>7</td>\n",
       "    </tr>\n",
       "    <tr>\n",
       "      <th>H-300-13078-105721</th>\n",
       "      <td>DANNY WALKER</td>\n",
       "      <td>NC</td>\n",
       "      <td>H-2A</td>\n",
       "      <td>2013</td>\n",
       "      <td>2013-03-20</td>\n",
       "      <td>2013-04-18</td>\n",
       "      <td>CERTIFIED - FULL</td>\n",
       "      <td>6</td>\n",
       "    </tr>\n",
       "    <tr>\n",
       "      <th>H-300-13114-660847</th>\n",
       "      <td>DANNY WALKER</td>\n",
       "      <td>NC</td>\n",
       "      <td>H-2A</td>\n",
       "      <td>2013</td>\n",
       "      <td>2013-05-14</td>\n",
       "      <td>2013-06-20</td>\n",
       "      <td>CERTIFIED - FULL</td>\n",
       "      <td>4</td>\n",
       "    </tr>\n",
       "    <tr>\n",
       "      <th>H-300-14042-064844</th>\n",
       "      <td>DANNY WALKER</td>\n",
       "      <td>NC</td>\n",
       "      <td>H-2A</td>\n",
       "      <td>2014</td>\n",
       "      <td>2014-03-12</td>\n",
       "      <td>2014-04-10</td>\n",
       "      <td>DETERMINATION ISSUED - CERTIFICATION</td>\n",
       "      <td>4</td>\n",
       "    </tr>\n",
       "    <tr>\n",
       "      <th>H-300-14114-756447</th>\n",
       "      <td>DANNY WALKER</td>\n",
       "      <td>NC</td>\n",
       "      <td>H-2A</td>\n",
       "      <td>2014</td>\n",
       "      <td>2014-05-16</td>\n",
       "      <td>2014-06-19</td>\n",
       "      <td>DETERMINATION ISSUED - CERTIFICATION</td>\n",
       "      <td>6</td>\n",
       "    </tr>\n",
       "    <tr>\n",
       "      <th>H-300-15049-528647</th>\n",
       "      <td>WALKER FARMS</td>\n",
       "      <td>NC</td>\n",
       "      <td>H-2A</td>\n",
       "      <td>2015</td>\n",
       "      <td>2015-03-17</td>\n",
       "      <td>2015-04-16</td>\n",
       "      <td>DETERMINATION ISSUED - CERTIFICATION</td>\n",
       "      <td>8</td>\n",
       "    </tr>\n",
       "    <tr>\n",
       "      <th>H-300-15069-116861</th>\n",
       "      <td>WALKER FARMS</td>\n",
       "      <td>NC</td>\n",
       "      <td>H-2A</td>\n",
       "      <td>2015</td>\n",
       "      <td>2015-04-08</td>\n",
       "      <td>2015-05-07</td>\n",
       "      <td>DETERMINATION ISSUED - CERTIFICATION</td>\n",
       "      <td>1</td>\n",
       "    </tr>\n",
       "    <tr>\n",
       "      <th>H-300-15113-780489</th>\n",
       "      <td>WALKER FARMS</td>\n",
       "      <td>NC</td>\n",
       "      <td>H-2A</td>\n",
       "      <td>2015</td>\n",
       "      <td>2015-05-20</td>\n",
       "      <td>2015-06-18</td>\n",
       "      <td>DETERMINATION ISSUED - CERTIFICATION</td>\n",
       "      <td>2</td>\n",
       "    </tr>\n",
       "    <tr>\n",
       "      <th>H-300-15133-717897</th>\n",
       "      <td>WALKER FARMS</td>\n",
       "      <td>NC</td>\n",
       "      <td>H-2A</td>\n",
       "      <td>2015</td>\n",
       "      <td>2015-06-10</td>\n",
       "      <td>2015-07-09</td>\n",
       "      <td>DETERMINATION ISSUED - CERTIFICATION</td>\n",
       "      <td>2</td>\n",
       "    </tr>\n",
       "  </tbody>\n",
       "</table>\n",
       "</div>"
      ],
      "text/plain": [
       "                   employer_name employer_state visa_type  fiscal_year  \\\n",
       "case_no                                                                  \n",
       "A-06060-00924       DANNY WALKER             NC      H-2A         2006   \n",
       "A-06137-01534       DANNY WALKER             NC      H-2A         2006   \n",
       "A-06138-01537       DANNY WALKER             NC      H-2A         2006   \n",
       "A-07054-03309       DANNY WALKER             NC      H-2A         2007   \n",
       "A-07110-03899       DANNY WALKER             NC      H-2A         2007   \n",
       "A-08053-06049       DANNY WALKER             NC      H-2A         2008   \n",
       "A-08123-06789       DANNY WALKER             NC      H-2A         2008   \n",
       "C-09057-18303       DANNY WALKER             NC      H-2A         2009   \n",
       "C-10050-23238       DANNY WALKER             NC      H-2A         2010   \n",
       "C-10069-23709       DANNY WALKER             NC      H-2A         2010   \n",
       "C-11046-27744       DANNY WALKER             NC      H-2A         2011   \n",
       "C-11123-29195       DANNY WALKER             NC      H-2A         2011   \n",
       "C-12045-32764       DANNY WALKER             NC      H-2A         2012   \n",
       "C-12109-34139       DANNY WALKER             NC      H-2A         2012   \n",
       "H-300-13078-105721  DANNY WALKER             NC      H-2A         2013   \n",
       "H-300-13114-660847  DANNY WALKER             NC      H-2A         2013   \n",
       "H-300-14042-064844  DANNY WALKER             NC      H-2A         2014   \n",
       "H-300-14114-756447  DANNY WALKER             NC      H-2A         2014   \n",
       "H-300-15049-528647  WALKER FARMS             NC      H-2A         2015   \n",
       "H-300-15069-116861  WALKER FARMS             NC      H-2A         2015   \n",
       "H-300-15113-780489  WALKER FARMS             NC      H-2A         2015   \n",
       "H-300-15133-717897  WALKER FARMS             NC      H-2A         2015   \n",
       "\n",
       "                   last_event_date certification_begin_date  \\\n",
       "case_no                                                       \n",
       "A-06060-00924                  NaN               2006-04-15   \n",
       "A-06137-01534                  NaN                      NaN   \n",
       "A-06138-01537                  NaN               2006-07-01   \n",
       "A-07054-03309           2007-03-15               2007-04-12   \n",
       "A-07110-03899           2007-05-09               2007-06-05   \n",
       "A-08053-06049           2008-03-11               2008-04-10   \n",
       "A-08123-06789           2008-05-21               2008-06-19   \n",
       "C-09057-18303           2009-03-17               2009-04-16   \n",
       "C-10050-23238           2010-03-09               2010-04-08   \n",
       "C-10069-23709           2010-04-21               2010-05-20   \n",
       "C-11046-27744           2011-03-10               2011-04-12   \n",
       "C-11123-29195           2011-05-26               2011-06-28   \n",
       "C-12045-32764           2012-03-13               2012-04-12   \n",
       "C-12109-34139           2012-05-16               2012-06-14   \n",
       "H-300-13078-105721      2013-03-20               2013-04-18   \n",
       "H-300-13114-660847      2013-05-14               2013-06-20   \n",
       "H-300-14042-064844      2014-03-12               2014-04-10   \n",
       "H-300-14114-756447      2014-05-16               2014-06-19   \n",
       "H-300-15049-528647      2015-03-17               2015-04-16   \n",
       "H-300-15069-116861      2015-04-08               2015-05-07   \n",
       "H-300-15113-780489      2015-05-20               2015-06-18   \n",
       "H-300-15133-717897      2015-06-10               2015-07-09   \n",
       "\n",
       "                                             case_status  n_certified  \n",
       "case_no                                                                \n",
       "A-06060-00924                           CERTIFIED - FULL            3  \n",
       "A-06137-01534                                 INCOMPLETE            0  \n",
       "A-06138-01537                           CERTIFIED - FULL            3  \n",
       "A-07054-03309                           CERTIFIED - FULL            4  \n",
       "A-07110-03899                           CERTIFIED - FULL            4  \n",
       "A-08053-06049                           CERTIFIED - FULL            4  \n",
       "A-08123-06789                           CERTIFIED - FULL            4  \n",
       "C-09057-18303                           CERTIFIED - FULL            8  \n",
       "C-10050-23238                           CERTIFIED - FULL            5  \n",
       "C-10069-23709                           CERTIFIED - FULL            3  \n",
       "C-11046-27744                        CERTIFIED - PARTIAL            4  \n",
       "C-11123-29195                           CERTIFIED - FULL            4  \n",
       "C-12045-32764                           CERTIFIED - FULL            5  \n",
       "C-12109-34139                           CERTIFIED - FULL            7  \n",
       "H-300-13078-105721                      CERTIFIED - FULL            6  \n",
       "H-300-13114-660847                      CERTIFIED - FULL            4  \n",
       "H-300-14042-064844  DETERMINATION ISSUED - CERTIFICATION            4  \n",
       "H-300-14114-756447  DETERMINATION ISSUED - CERTIFICATION            6  \n",
       "H-300-15049-528647  DETERMINATION ISSUED - CERTIFICATION            8  \n",
       "H-300-15069-116861  DETERMINATION ISSUED - CERTIFICATION            1  \n",
       "H-300-15113-780489  DETERMINATION ISSUED - CERTIFICATION            2  \n",
       "H-300-15133-717897  DETERMINATION ISSUED - CERTIFICATION            2  "
      ]
     },
     "execution_count": 26,
     "metadata": {},
     "output_type": "execute_result"
    }
   ],
   "source": [
    "walker_since_fy2006 = visa_decisions[\n",
    "    visa_decisions[\"is_ncga\"] &\n",
    "    (visa_decisions[\"fiscal_year\"] >= 2006) &\n",
    "    (visa_decisions[\"employer_state\"] == \"NC\") &\n",
    "    visa_decisions[\"employer_name\"].str.contains(r\"DANNY.* WALKER|WALKER FARM\", na=False)\n",
    "].set_index(\"case_no\")\n",
    "\n",
    "walker_since_fy2006[[\n",
    "    \"employer_name\", \"employer_state\",\n",
    "    \"visa_type\", \"fiscal_year\", \"last_event_date\", \n",
    "    \"certification_begin_date\", \"case_status\", \"n_certified\"\n",
    "]]"
   ]
  },
  {
   "cell_type": "code",
   "execution_count": 27,
   "metadata": {
    "collapsed": false
   },
   "outputs": [
    {
     "data": {
      "text/plain": [
       "91"
      ]
     },
     "execution_count": 27,
     "metadata": {},
     "output_type": "execute_result"
    }
   ],
   "source": [
    "walker_since_fy2006[\"n_certified\"].sum()"
   ]
  },
  {
   "cell_type": "code",
   "execution_count": 28,
   "metadata": {
    "collapsed": false
   },
   "outputs": [
    {
     "data": {
      "text/plain": [
       "13"
      ]
     },
     "execution_count": 28,
     "metadata": {},
     "output_type": "execute_result"
    }
   ],
   "source": [
    "walker_since_fy2006[\n",
    "    walker_since_fy2006[\"calendar_year\"] == 2015\n",
    "][\"n_certified\"].sum()"
   ]
  },
  {
   "cell_type": "markdown",
   "metadata": {},
   "source": [
    "##  \"International Labor Management was a major player, helping clients get approval for as many as 5,000 visas a year.\""
   ]
  },
  {
   "cell_type": "code",
   "execution_count": 29,
   "metadata": {
    "collapsed": false
   },
   "outputs": [
    {
     "data": {
      "text/html": [
       "<div>\n",
       "<table border=\"1\" class=\"dataframe\">\n",
       "  <thead>\n",
       "    <tr style=\"text-align: right;\">\n",
       "      <th></th>\n",
       "      <th>n_certified</th>\n",
       "    </tr>\n",
       "    <tr>\n",
       "      <th>fiscal_year</th>\n",
       "      <th></th>\n",
       "    </tr>\n",
       "  </thead>\n",
       "  <tbody>\n",
       "    <tr>\n",
       "      <th>2000</th>\n",
       "      <td>9396</td>\n",
       "    </tr>\n",
       "    <tr>\n",
       "      <th>2001</th>\n",
       "      <td>4371</td>\n",
       "    </tr>\n",
       "    <tr>\n",
       "      <th>2002</th>\n",
       "      <td>4271</td>\n",
       "    </tr>\n",
       "    <tr>\n",
       "      <th>2003</th>\n",
       "      <td>4795</td>\n",
       "    </tr>\n",
       "    <tr>\n",
       "      <th>2004</th>\n",
       "      <td>4796</td>\n",
       "    </tr>\n",
       "    <tr>\n",
       "      <th>2005</th>\n",
       "      <td>5342</td>\n",
       "    </tr>\n",
       "    <tr>\n",
       "      <th>2006</th>\n",
       "      <td>5139</td>\n",
       "    </tr>\n",
       "    <tr>\n",
       "      <th>2007</th>\n",
       "      <td>4776</td>\n",
       "    </tr>\n",
       "    <tr>\n",
       "      <th>2008</th>\n",
       "      <td>5200</td>\n",
       "    </tr>\n",
       "    <tr>\n",
       "      <th>2009</th>\n",
       "      <td>4569</td>\n",
       "    </tr>\n",
       "  </tbody>\n",
       "</table>\n",
       "</div>"
      ],
      "text/plain": [
       "             n_certified\n",
       "fiscal_year             \n",
       "2000                9396\n",
       "2001                4371\n",
       "2002                4271\n",
       "2003                4795\n",
       "2004                4796\n",
       "2005                5342\n",
       "2006                5139\n",
       "2007                4776\n",
       "2008                5200\n",
       "2009                4569"
      ]
     },
     "execution_count": 29,
     "metadata": {},
     "output_type": "execute_result"
    }
   ],
   "source": [
    "pd.DataFrame(visa_decisions[\n",
    "    (visa_decisions[\"is_ilmc\"]) &\n",
    "    (visa_decisions[\"visa_type\"] == \"H-2B\") &\n",
    "    (visa_decisions[\"is_duplicate\"] != True) &\n",
    "    (visa_decisions[\"fiscal_year\"] <= 2009)\n",
    "].groupby([ \"fiscal_year\" ])[\"n_certified\"].sum())"
   ]
  },
  {
   "cell_type": "markdown",
   "metadata": {},
   "source": [
    "## \"But it took the Labor Department 10 days [after ILMC pleaded guilty on July 22nd] to follow through — and in that time the agency approved at least 12 of the company’s visa applications for a total of more than 400 workers.\""
   ]
  },
  {
   "cell_type": "code",
   "execution_count": 30,
   "metadata": {
    "collapsed": false
   },
   "outputs": [
    {
     "data": {
      "text/html": [
       "<div>\n",
       "<table border=\"1\" class=\"dataframe\">\n",
       "  <thead>\n",
       "    <tr style=\"text-align: right;\">\n",
       "      <th></th>\n",
       "      <th>visa_type</th>\n",
       "      <th>last_event_date</th>\n",
       "      <th>case_status</th>\n",
       "      <th>n_certified</th>\n",
       "      <th>employer_name</th>\n",
       "      <th>agent_name</th>\n",
       "    </tr>\n",
       "    <tr>\n",
       "      <th>case_no</th>\n",
       "      <th></th>\n",
       "      <th></th>\n",
       "      <th></th>\n",
       "      <th></th>\n",
       "      <th></th>\n",
       "      <th></th>\n",
       "    </tr>\n",
       "  </thead>\n",
       "  <tbody>\n",
       "    <tr>\n",
       "      <th>H-300-14184-484539</th>\n",
       "      <td>H-2A</td>\n",
       "      <td>2014-07-23</td>\n",
       "      <td>DETERMINATION ISSUED - CERTIFICATION</td>\n",
       "      <td>56</td>\n",
       "      <td>LAMONT FRUIT FARM INC #3</td>\n",
       "      <td>INTERNATIONAL LABOR MANAGEMENT CORP:THERESA WARD</td>\n",
       "    </tr>\n",
       "    <tr>\n",
       "      <th>H-300-14184-758697</th>\n",
       "      <td>H-2A</td>\n",
       "      <td>2014-07-23</td>\n",
       "      <td>DETERMINATION ISSUED - CERTIFICATION</td>\n",
       "      <td>58</td>\n",
       "      <td>MATTHEWS RIDGEVIEW FARM</td>\n",
       "      <td>INTERNATIONAL LABOR MANAGEMENT CORP:CHRISTI TA...</td>\n",
       "    </tr>\n",
       "    <tr>\n",
       "      <th>H-300-14192-264473</th>\n",
       "      <td>H-2A</td>\n",
       "      <td>2014-07-24</td>\n",
       "      <td>DETERMINATION ISSUED - CERTIFICATION</td>\n",
       "      <td>5</td>\n",
       "      <td>HARTLAND INC</td>\n",
       "      <td>INTERNATIONAL LABOR MANAGEMENT CORP:TERESA WARD</td>\n",
       "    </tr>\n",
       "    <tr>\n",
       "      <th>H-300-14192-685801</th>\n",
       "      <td>H-2A</td>\n",
       "      <td>2014-07-24</td>\n",
       "      <td>DETERMINATION ISSUED - CERTIFICATION</td>\n",
       "      <td>18</td>\n",
       "      <td>THOMAS A &amp; ROBERT E CONROW</td>\n",
       "      <td>INTERNATIONAL LABOR MANAGEMENT CORPORATION:THE...</td>\n",
       "    </tr>\n",
       "    <tr>\n",
       "      <th>H-300-14184-120609</th>\n",
       "      <td>H-2A</td>\n",
       "      <td>2014-07-25</td>\n",
       "      <td>DETERMINATION ISSUED - CERTIFICATION</td>\n",
       "      <td>39</td>\n",
       "      <td>KALIR ENTERPRISES INC</td>\n",
       "      <td>INTERNATIONAL LABOR MANAGEMENT CORP:CHRISTI TA...</td>\n",
       "    </tr>\n",
       "    <tr>\n",
       "      <th>H-300-14192-166510</th>\n",
       "      <td>H-2A</td>\n",
       "      <td>2014-07-25</td>\n",
       "      <td>DETERMINATION ISSUED - CERTIFICATION</td>\n",
       "      <td>4</td>\n",
       "      <td>L. WALTHERS &amp; SONS INC #12</td>\n",
       "      <td>INTERNATIONAL LABOR MANAGEMENT CORPORATION:THE...</td>\n",
       "    </tr>\n",
       "    <tr>\n",
       "      <th>H-300-14192-356336</th>\n",
       "      <td>H-2A</td>\n",
       "      <td>2014-07-25</td>\n",
       "      <td>DETERMINATION ISSUED - CERTIFICATION</td>\n",
       "      <td>16</td>\n",
       "      <td>JAMES KIRBY</td>\n",
       "      <td>INTERNATIONAL LABOR MANAGEMENT CORPORATION:THE...</td>\n",
       "    </tr>\n",
       "    <tr>\n",
       "      <th>H-300-14192-907762</th>\n",
       "      <td>H-2A</td>\n",
       "      <td>2014-07-25</td>\n",
       "      <td>DETERMINATION ISSUED - CERTIFICATION</td>\n",
       "      <td>50</td>\n",
       "      <td>LEWIS M BAILEY IV FARMS INC</td>\n",
       "      <td>INTERNATIONAL LABOR MANAGEMENT CORPORATION:THE...</td>\n",
       "    </tr>\n",
       "    <tr>\n",
       "      <th>H-300-14184-384344</th>\n",
       "      <td>H-2A</td>\n",
       "      <td>2014-07-28</td>\n",
       "      <td>DETERMINATION ISSUED - CERTIFICATION</td>\n",
       "      <td>33</td>\n",
       "      <td>MATTHEWS SWEET POTATO FARM</td>\n",
       "      <td>INTERNATIONAL LABOR MANGEMENT CORPORATION:CHRI...</td>\n",
       "    </tr>\n",
       "    <tr>\n",
       "      <th>H-300-14192-315548</th>\n",
       "      <td>H-2A</td>\n",
       "      <td>2014-07-29</td>\n",
       "      <td>DETERMINATION ISSUED - CERTIFICATION</td>\n",
       "      <td>4</td>\n",
       "      <td>L. WALTHERS &amp; SONS INC #11</td>\n",
       "      <td>INTERNATIONAL LABOR MANAGEMENT CORPORATION:THE...</td>\n",
       "    </tr>\n",
       "    <tr>\n",
       "      <th>H-300-14184-707008</th>\n",
       "      <td>H-2A</td>\n",
       "      <td>2014-07-30</td>\n",
       "      <td>DETERMINATION ISSUED - CERTIFICATION</td>\n",
       "      <td>93</td>\n",
       "      <td>FREY BROTHERS</td>\n",
       "      <td>INTERNATIONAL LABOR MANAGEMENT CORPORATION:CHR...</td>\n",
       "    </tr>\n",
       "    <tr>\n",
       "      <th>H-300-14197-506799</th>\n",
       "      <td>H-2A</td>\n",
       "      <td>2014-07-30</td>\n",
       "      <td>DETERMINATION ISSUED - CERTIFICATION</td>\n",
       "      <td>35</td>\n",
       "      <td>CHERRY BAY ORCHARDS INC</td>\n",
       "      <td>INTERNATIONAL LABOR MANAGEMENT CORPORATION:THE...</td>\n",
       "    </tr>\n",
       "  </tbody>\n",
       "</table>\n",
       "</div>"
      ],
      "text/plain": [
       "                   visa_type last_event_date  \\\n",
       "case_no                                        \n",
       "H-300-14184-484539      H-2A      2014-07-23   \n",
       "H-300-14184-758697      H-2A      2014-07-23   \n",
       "H-300-14192-264473      H-2A      2014-07-24   \n",
       "H-300-14192-685801      H-2A      2014-07-24   \n",
       "H-300-14184-120609      H-2A      2014-07-25   \n",
       "H-300-14192-166510      H-2A      2014-07-25   \n",
       "H-300-14192-356336      H-2A      2014-07-25   \n",
       "H-300-14192-907762      H-2A      2014-07-25   \n",
       "H-300-14184-384344      H-2A      2014-07-28   \n",
       "H-300-14192-315548      H-2A      2014-07-29   \n",
       "H-300-14184-707008      H-2A      2014-07-30   \n",
       "H-300-14197-506799      H-2A      2014-07-30   \n",
       "\n",
       "                                             case_status  n_certified  \\\n",
       "case_no                                                                 \n",
       "H-300-14184-484539  DETERMINATION ISSUED - CERTIFICATION           56   \n",
       "H-300-14184-758697  DETERMINATION ISSUED - CERTIFICATION           58   \n",
       "H-300-14192-264473  DETERMINATION ISSUED - CERTIFICATION            5   \n",
       "H-300-14192-685801  DETERMINATION ISSUED - CERTIFICATION           18   \n",
       "H-300-14184-120609  DETERMINATION ISSUED - CERTIFICATION           39   \n",
       "H-300-14192-166510  DETERMINATION ISSUED - CERTIFICATION            4   \n",
       "H-300-14192-356336  DETERMINATION ISSUED - CERTIFICATION           16   \n",
       "H-300-14192-907762  DETERMINATION ISSUED - CERTIFICATION           50   \n",
       "H-300-14184-384344  DETERMINATION ISSUED - CERTIFICATION           33   \n",
       "H-300-14192-315548  DETERMINATION ISSUED - CERTIFICATION            4   \n",
       "H-300-14184-707008  DETERMINATION ISSUED - CERTIFICATION           93   \n",
       "H-300-14197-506799  DETERMINATION ISSUED - CERTIFICATION           35   \n",
       "\n",
       "                                  employer_name  \\\n",
       "case_no                                           \n",
       "H-300-14184-484539     LAMONT FRUIT FARM INC #3   \n",
       "H-300-14184-758697      MATTHEWS RIDGEVIEW FARM   \n",
       "H-300-14192-264473                 HARTLAND INC   \n",
       "H-300-14192-685801   THOMAS A & ROBERT E CONROW   \n",
       "H-300-14184-120609        KALIR ENTERPRISES INC   \n",
       "H-300-14192-166510   L. WALTHERS & SONS INC #12   \n",
       "H-300-14192-356336                  JAMES KIRBY   \n",
       "H-300-14192-907762  LEWIS M BAILEY IV FARMS INC   \n",
       "H-300-14184-384344   MATTHEWS SWEET POTATO FARM   \n",
       "H-300-14192-315548   L. WALTHERS & SONS INC #11   \n",
       "H-300-14184-707008                FREY BROTHERS   \n",
       "H-300-14197-506799      CHERRY BAY ORCHARDS INC   \n",
       "\n",
       "                                                           agent_name  \n",
       "case_no                                                                \n",
       "H-300-14184-484539   INTERNATIONAL LABOR MANAGEMENT CORP:THERESA WARD  \n",
       "H-300-14184-758697  INTERNATIONAL LABOR MANAGEMENT CORP:CHRISTI TA...  \n",
       "H-300-14192-264473    INTERNATIONAL LABOR MANAGEMENT CORP:TERESA WARD  \n",
       "H-300-14192-685801  INTERNATIONAL LABOR MANAGEMENT CORPORATION:THE...  \n",
       "H-300-14184-120609  INTERNATIONAL LABOR MANAGEMENT CORP:CHRISTI TA...  \n",
       "H-300-14192-166510  INTERNATIONAL LABOR MANAGEMENT CORPORATION:THE...  \n",
       "H-300-14192-356336  INTERNATIONAL LABOR MANAGEMENT CORPORATION:THE...  \n",
       "H-300-14192-907762  INTERNATIONAL LABOR MANAGEMENT CORPORATION:THE...  \n",
       "H-300-14184-384344  INTERNATIONAL LABOR MANGEMENT CORPORATION:CHRI...  \n",
       "H-300-14192-315548  INTERNATIONAL LABOR MANAGEMENT CORPORATION:THE...  \n",
       "H-300-14184-707008  INTERNATIONAL LABOR MANAGEMENT CORPORATION:CHR...  \n",
       "H-300-14197-506799  INTERNATIONAL LABOR MANAGEMENT CORPORATION:THE...  "
      ]
     },
     "execution_count": 30,
     "metadata": {},
     "output_type": "execute_result"
    }
   ],
   "source": [
    "ilmc_post_20140722 = visa_decisions[\n",
    "    visa_decisions[\"is_ilmc\"] &\n",
    "    (visa_decisions[\"last_event_date\"] > \"2014-07-22\")\n",
    "].sort_values(\"last_event_date\").set_index(\"case_no\")[[ \n",
    "    \"visa_type\", \"last_event_date\", \"case_status\", \"n_certified\", \n",
    "    \"employer_name\", \"agent_name\"\n",
    "]]\n",
    "ilmc_post_20140722"
   ]
  },
  {
   "cell_type": "code",
   "execution_count": 31,
   "metadata": {
    "collapsed": false
   },
   "outputs": [
    {
     "data": {
      "text/plain": [
       "12"
      ]
     },
     "execution_count": 31,
     "metadata": {},
     "output_type": "execute_result"
    }
   ],
   "source": [
    "len(ilmc_post_20140722)"
   ]
  },
  {
   "cell_type": "code",
   "execution_count": 32,
   "metadata": {
    "collapsed": false
   },
   "outputs": [
    {
     "data": {
      "text/plain": [
       "411"
      ]
     },
     "execution_count": 32,
     "metadata": {},
     "output_type": "execute_result"
    }
   ],
   "source": [
    "ilmc_post_20140722[\"n_certified\"].sum()"
   ]
  },
  {
   "cell_type": "markdown",
   "metadata": {},
   "source": [
    "## \"And [Wicker] kept submitting the association’s visa applications for more than four months — 20 applications in all, for a total of 3,887 workers.\""
   ]
  },
  {
   "cell_type": "markdown",
   "metadata": {},
   "source": [
    "Wicker signed these 21 applications — one of which was withdrawn — between April 10, 2015 and the end of FY 2015:"
   ]
  },
  {
   "cell_type": "code",
   "execution_count": 33,
   "metadata": {
    "collapsed": false
   },
   "outputs": [],
   "source": [
    "wicker_case_numbers_since_20150410 = [\n",
    "    \"H-300-15105-204510\",\n",
    "    \"H-300-15105-401959\",\n",
    "    \"H-300-15113-780489\",\n",
    "    \"H-300-15121-107708\",\n",
    "    \"H-300-15121-272547\",\n",
    "    \"H-300-15126-127520\",\n",
    "    \"H-300-15133-717897\",\n",
    "    \"H-300-15133-981598\",\n",
    "    \"H-300-15146-218107\",\n",
    "    \"H-300-15146-896009\",\n",
    "    \"H-300-15149-227646\",\n",
    "    \"H-300-15154-234368\",\n",
    "    \"H-300-15154-808765\",\n",
    "    \"H-300-15162-892086\",\n",
    "    \"H-300-15168-424111\",\n",
    "    \"H-300-15181-041168\",\n",
    "    \"H-300-15191-311857\",\n",
    "    \"H-300-15197-043964\",\n",
    "    \"H-300-15233-161244\",\n",
    "    \"H-300-15239-744626\",\n",
    "    \"H-300-15239-792339\",    \n",
    "]"
   ]
  },
  {
   "cell_type": "code",
   "execution_count": 34,
   "metadata": {
    "collapsed": false
   },
   "outputs": [
    {
     "data": {
      "text/plain": [
       "21"
      ]
     },
     "execution_count": 34,
     "metadata": {},
     "output_type": "execute_result"
    }
   ],
   "source": [
    "len(wicker_case_numbers_since_20150410)"
   ]
  },
  {
   "cell_type": "markdown",
   "metadata": {},
   "source": [
    "The total number of worker positions certified for these applications:"
   ]
  },
  {
   "cell_type": "code",
   "execution_count": 35,
   "metadata": {
    "collapsed": false
   },
   "outputs": [
    {
     "data": {
      "text/plain": [
       "20"
      ]
     },
     "execution_count": 35,
     "metadata": {},
     "output_type": "execute_result"
    }
   ],
   "source": [
    "visa_decisions[\n",
    "    (visa_decisions[\"is_duplicate\"] != True)\n",
    "].set_index(\"case_no\").ix[wicker_case_numbers_since_20150410][\"is_certified\"].sum()"
   ]
  },
  {
   "cell_type": "code",
   "execution_count": 36,
   "metadata": {
    "collapsed": false
   },
   "outputs": [
    {
     "data": {
      "text/plain": [
       "3887"
      ]
     },
     "execution_count": 36,
     "metadata": {},
     "output_type": "execute_result"
    }
   ],
   "source": [
    "visa_decisions[\n",
    "    (visa_decisions[\"is_duplicate\"] != True)\n",
    "].set_index(\"case_no\").ix[wicker_case_numbers_since_20150410][\"n_certified\"].sum()"
   ]
  },
  {
   "cell_type": "markdown",
   "metadata": {},
   "source": [
    "## \"Since [August 3, 2014, National Agricultural Consultants] has won approval for 5,100 H-2 visas, federal data show [...]\"\n",
    "\n",
    "Number of certifications per listed agent company/name since July 1, 2014:"
   ]
  },
  {
   "cell_type": "code",
   "execution_count": 37,
   "metadata": {
    "collapsed": false
   },
   "outputs": [
    {
     "data": {
      "text/plain": [
       "agent_name\n",
       "NATIONAL AGRICULTURAL CONSULTANTS LLC:THERESA WARD     5056\n",
       "NATIONAL AGRICULTURAL CONSULTANTS LLC:WARREN WICKER      52\n",
       "NATIONAL AGRICULTURAL CONSULTANTS:THERESA WARD           15\n",
       "NATIONAL AGRICULTURE CONSULTANTS LLC:THERESA WARD         0\n",
       "NATIONAL AGRICULURAL CONSULTANTS LLC:THERESA WARD        12\n",
       "Name: n_certified, dtype: int64"
      ]
     },
     "execution_count": 37,
     "metadata": {},
     "output_type": "execute_result"
    }
   ],
   "source": [
    "nat_ag_pat = r\"\\bNATIONAL AG|\\bNAT[^ ]*L AG\"\n",
    "nat_ag = visa_decisions[\n",
    "    visa_decisions[\"agent_name\"].str.contains(nat_ag_pat, na=False) &\n",
    "    (visa_decisions[\"last_event_date\"] >= \"2014-08-03\") &\n",
    "    (visa_decisions[\"is_duplicate\"] != True)\n",
    "]\n",
    "nat_ag.groupby([\"agent_name\"])[\"n_certified\"].sum()"
   ]
  },
  {
   "cell_type": "code",
   "execution_count": 38,
   "metadata": {
    "collapsed": false
   },
   "outputs": [
    {
     "data": {
      "text/plain": [
       "5135"
      ]
     },
     "execution_count": 38,
     "metadata": {},
     "output_type": "execute_result"
    }
   ],
   "source": [
    "nat_ag[\"n_certified\"].sum()"
   ]
  },
  {
   "cell_type": "markdown",
   "metadata": {},
   "source": [
    "## \"[...] its 10 largest clients had all previously gotten visas through International Labor Management.\""
   ]
  },
  {
   "cell_type": "code",
   "execution_count": 39,
   "metadata": {
    "collapsed": true
   },
   "outputs": [],
   "source": [
    "import namestand\n",
    "def normalize_name(x):\n",
    "    return namestand.downscore(x).replace(\"_\", \"\")[:10]"
   ]
  },
  {
   "cell_type": "markdown",
   "metadata": {},
   "source": [
    "NAC's largest clients:"
   ]
  },
  {
   "cell_type": "code",
   "execution_count": 40,
   "metadata": {
    "collapsed": false
   },
   "outputs": [
    {
     "data": {
      "text/html": [
       "<div>\n",
       "<table border=\"1\" class=\"dataframe\">\n",
       "  <thead>\n",
       "    <tr style=\"text-align: right;\">\n",
       "      <th></th>\n",
       "      <th>employer_names</th>\n",
       "      <th>employer_zip_codes</th>\n",
       "      <th>n_certified</th>\n",
       "    </tr>\n",
       "    <tr>\n",
       "      <th>employer_name</th>\n",
       "      <th></th>\n",
       "      <th></th>\n",
       "      <th></th>\n",
       "    </tr>\n",
       "  </thead>\n",
       "  <tbody>\n",
       "    <tr>\n",
       "      <th>tbelldetas</th>\n",
       "      <td>T. BELL DETASSELING LLC</td>\n",
       "      <td>52739</td>\n",
       "      <td>473</td>\n",
       "    </tr>\n",
       "    <tr>\n",
       "      <th>walterpraw</th>\n",
       "      <td>WALTER P. RAWL &amp; SONS INC</td>\n",
       "      <td>29123</td>\n",
       "      <td>324</td>\n",
       "    </tr>\n",
       "    <tr>\n",
       "      <th>freybrothe</th>\n",
       "      <td>FREY BROTHERS</td>\n",
       "      <td>62851</td>\n",
       "      <td>224</td>\n",
       "    </tr>\n",
       "    <tr>\n",
       "      <th>jecooleyfa</th>\n",
       "      <td>JE COOLEY FARMS INC</td>\n",
       "      <td>29323</td>\n",
       "      <td>215</td>\n",
       "    </tr>\n",
       "    <tr>\n",
       "      <th>dutchmantr</th>\n",
       "      <td>DUTCHMAN TREE FARMS LLC</td>\n",
       "      <td>49663</td>\n",
       "      <td>205</td>\n",
       "    </tr>\n",
       "    <tr>\n",
       "      <th>joneschurc</th>\n",
       "      <td>JONES &amp; CHURCH FARMS</td>\n",
       "      <td>37692</td>\n",
       "      <td>175</td>\n",
       "    </tr>\n",
       "    <tr>\n",
       "      <th>willowbend</th>\n",
       "      <td>WILLOWBEND NURSERIES LLC</td>\n",
       "      <td>44081</td>\n",
       "      <td>174</td>\n",
       "    </tr>\n",
       "    <tr>\n",
       "      <th>tpharvesti</th>\n",
       "      <td>T  &amp;  P  HARVESTING  LLC • T &amp; P HARVESTING LLC</td>\n",
       "      <td>38878</td>\n",
       "      <td>163</td>\n",
       "    </tr>\n",
       "    <tr>\n",
       "      <th>csmcleodfa</th>\n",
       "      <td>C.S MCLEOD FARMS INC</td>\n",
       "      <td>29101</td>\n",
       "      <td>160</td>\n",
       "    </tr>\n",
       "    <tr>\n",
       "      <th>scottstraw</th>\n",
       "      <td>SCOTT STRAWBERRIES &amp; TOMATOES FARMS &amp; SCOTTS U...</td>\n",
       "      <td>37692</td>\n",
       "      <td>130</td>\n",
       "    </tr>\n",
       "    <tr>\n",
       "      <th>matthewsri</th>\n",
       "      <td>MATTHEWS RIDGEVIEW FARMS</td>\n",
       "      <td>72396</td>\n",
       "      <td>130</td>\n",
       "    </tr>\n",
       "    <tr>\n",
       "      <th>larchmontf</th>\n",
       "      <td>LARCHMONT FARMS INC</td>\n",
       "      <td>08318</td>\n",
       "      <td>126</td>\n",
       "    </tr>\n",
       "  </tbody>\n",
       "</table>\n",
       "</div>"
      ],
      "text/plain": [
       "                                                  employer_names  \\\n",
       "employer_name                                                      \n",
       "tbelldetas                               T. BELL DETASSELING LLC   \n",
       "walterpraw                             WALTER P. RAWL & SONS INC   \n",
       "freybrothe                                         FREY BROTHERS   \n",
       "jecooleyfa                                   JE COOLEY FARMS INC   \n",
       "dutchmantr                               DUTCHMAN TREE FARMS LLC   \n",
       "joneschurc                                  JONES & CHURCH FARMS   \n",
       "willowbend                              WILLOWBEND NURSERIES LLC   \n",
       "tpharvesti       T  &  P  HARVESTING  LLC • T & P HARVESTING LLC   \n",
       "csmcleodfa                                  C.S MCLEOD FARMS INC   \n",
       "scottstraw     SCOTT STRAWBERRIES & TOMATOES FARMS & SCOTTS U...   \n",
       "matthewsri                              MATTHEWS RIDGEVIEW FARMS   \n",
       "larchmontf                                   LARCHMONT FARMS INC   \n",
       "\n",
       "              employer_zip_codes  n_certified  \n",
       "employer_name                                  \n",
       "tbelldetas                 52739          473  \n",
       "walterpraw                 29123          324  \n",
       "freybrothe                 62851          224  \n",
       "jecooleyfa                 29323          215  \n",
       "dutchmantr                 49663          205  \n",
       "joneschurc                 37692          175  \n",
       "willowbend                 44081          174  \n",
       "tpharvesti                 38878          163  \n",
       "csmcleodfa                 29101          160  \n",
       "scottstraw                 37692          130  \n",
       "matthewsri                 72396          130  \n",
       "larchmontf                 08318          126  "
      ]
     },
     "execution_count": 40,
     "metadata": {},
     "output_type": "execute_result"
    }
   ],
   "source": [
    "grp = nat_ag.groupby(nat_ag[\"employer_name\"].apply(normalize_name))\n",
    "pd.DataFrame({\n",
    "    \"n_certified\": grp[\"n_certified\"].sum(),\n",
    "    \"employer_names\": grp[\"employer_name\"].apply(lambda x: \" • \".join(sorted(x.unique()))),\n",
    "    \"employer_zip_codes\": grp[\"employer_postal_code\"].apply(lambda x: \" • \".join(sorted(x.unique())))\n",
    "}).sort_values(\"n_certified\", ascending=False).head(12)"
   ]
  },
  {
   "cell_type": "markdown",
   "metadata": {},
   "source": [
    "Scott Strawberries and Matthews Ridgeview Farms are tied for 10th-largest client through the end of FY 2015. Both have received visa certifications through ILMC, however. Below are examples of visas previously obtained by these clients through ILMC."
   ]
  },
  {
   "cell_type": "code",
   "execution_count": 41,
   "metadata": {
    "collapsed": false
   },
   "outputs": [
    {
     "data": {
      "text/html": [
       "<div>\n",
       "<table border=\"1\" class=\"dataframe\">\n",
       "  <thead>\n",
       "    <tr style=\"text-align: right;\">\n",
       "      <th></th>\n",
       "      <th>visa_type</th>\n",
       "      <th>last_event_date</th>\n",
       "      <th>n_certified</th>\n",
       "      <th>employer_name</th>\n",
       "      <th>employer_postal_code</th>\n",
       "      <th>agent_name</th>\n",
       "    </tr>\n",
       "    <tr>\n",
       "      <th>case_no</th>\n",
       "      <th></th>\n",
       "      <th></th>\n",
       "      <th></th>\n",
       "      <th></th>\n",
       "      <th></th>\n",
       "      <th></th>\n",
       "    </tr>\n",
       "  </thead>\n",
       "  <tbody>\n",
       "    <tr>\n",
       "      <th>H-300-14107-535733</th>\n",
       "      <td>H-2A</td>\n",
       "      <td>2014-06-06</td>\n",
       "      <td>250</td>\n",
       "      <td>T. BELL DETASSELING LLC</td>\n",
       "      <td>52755</td>\n",
       "      <td>INTERNATIONAL LABOR MANAGEMENT CORPORATION:THE...</td>\n",
       "    </tr>\n",
       "    <tr>\n",
       "      <th>H-300-14156-392963</th>\n",
       "      <td>H-2A</td>\n",
       "      <td>2014-06-24</td>\n",
       "      <td>40</td>\n",
       "      <td>WALTER P. RAWL &amp; SONS INC</td>\n",
       "      <td>29123</td>\n",
       "      <td>INTERNATIONAL LABOR MANAGEMENT CORPORATION:THE...</td>\n",
       "    </tr>\n",
       "    <tr>\n",
       "      <th>H-300-14184-707008</th>\n",
       "      <td>H-2A</td>\n",
       "      <td>2014-07-30</td>\n",
       "      <td>93</td>\n",
       "      <td>FREY BROTHERS</td>\n",
       "      <td>62851</td>\n",
       "      <td>INTERNATIONAL LABOR MANAGEMENT CORPORATION:CHR...</td>\n",
       "    </tr>\n",
       "    <tr>\n",
       "      <th>H-300-14037-080405</th>\n",
       "      <td>H-2A</td>\n",
       "      <td>2014-03-11</td>\n",
       "      <td>115</td>\n",
       "      <td>JE COOLEY FARMS INC #2</td>\n",
       "      <td>29323</td>\n",
       "      <td>INTERNATIONAL LABOR MANAGEMENT CORPORATION:THE...</td>\n",
       "    </tr>\n",
       "    <tr>\n",
       "      <th>H-300-14042-816041</th>\n",
       "      <td>H-2A</td>\n",
       "      <td>2014-03-25</td>\n",
       "      <td>47</td>\n",
       "      <td>DUTCHMAN TREE FARMS LLC #1</td>\n",
       "      <td>49663</td>\n",
       "      <td>INTERNATIONAL LABOR MANAGEMENT CORP:THERESA WARD</td>\n",
       "    </tr>\n",
       "    <tr>\n",
       "      <th>H-300-14134-615702</th>\n",
       "      <td>H-2A</td>\n",
       "      <td>2014-06-06</td>\n",
       "      <td>90</td>\n",
       "      <td>JONES &amp; CHURCH FARMS INC.</td>\n",
       "      <td>37692</td>\n",
       "      <td>INTERNATIONAL LABOR MANAGEMENT CORPORATION:THE...</td>\n",
       "    </tr>\n",
       "    <tr>\n",
       "      <th>H-300-14007-844145</th>\n",
       "      <td>H-2A</td>\n",
       "      <td>2014-01-30</td>\n",
       "      <td>22</td>\n",
       "      <td>WILLOWBEND NURSERIES LLC #2</td>\n",
       "      <td>44146</td>\n",
       "      <td>INTERNATIONAL LABOR MANAGEMENT CORPORATION:THE...</td>\n",
       "    </tr>\n",
       "    <tr>\n",
       "      <th>H-300-14071-513596</th>\n",
       "      <td>H-2A</td>\n",
       "      <td>2014-04-04</td>\n",
       "      <td>26</td>\n",
       "      <td>T &amp; P HARVESTING, LLC</td>\n",
       "      <td>38851</td>\n",
       "      <td>INTERNATIONAL LABOR MANAGEMENT CORPORATION:CHR...</td>\n",
       "    </tr>\n",
       "    <tr>\n",
       "      <th>H-300-14037-956780</th>\n",
       "      <td>H-2A</td>\n",
       "      <td>2014-03-13</td>\n",
       "      <td>80</td>\n",
       "      <td>C.S.MCLEOD FARMS INC #2</td>\n",
       "      <td>29101</td>\n",
       "      <td>INTERNATIOAL LABOR MANAGEMENT CORPORATION:THER...</td>\n",
       "    </tr>\n",
       "    <tr>\n",
       "      <th>H-300-14134-859520</th>\n",
       "      <td>H-2A</td>\n",
       "      <td>2014-06-10</td>\n",
       "      <td>55</td>\n",
       "      <td>SCOTT STRAWBERRY &amp; TOMATO FARM &amp; SCOTT UNAKA M...</td>\n",
       "      <td>37692</td>\n",
       "      <td>INTERNATIONAL LABOR MANAGEMENT CORPORATION:THE...</td>\n",
       "    </tr>\n",
       "    <tr>\n",
       "      <th>H-300-14184-758697</th>\n",
       "      <td>H-2A</td>\n",
       "      <td>2014-07-23</td>\n",
       "      <td>58</td>\n",
       "      <td>MATTHEWS RIDGEVIEW FARM</td>\n",
       "      <td>72396</td>\n",
       "      <td>INTERNATIONAL LABOR MANAGEMENT CORP:CHRISTI TA...</td>\n",
       "    </tr>\n",
       "  </tbody>\n",
       "</table>\n",
       "</div>"
      ],
      "text/plain": [
       "                   visa_type last_event_date  n_certified  \\\n",
       "case_no                                                     \n",
       "H-300-14107-535733      H-2A      2014-06-06          250   \n",
       "H-300-14156-392963      H-2A      2014-06-24           40   \n",
       "H-300-14184-707008      H-2A      2014-07-30           93   \n",
       "H-300-14037-080405      H-2A      2014-03-11          115   \n",
       "H-300-14042-816041      H-2A      2014-03-25           47   \n",
       "H-300-14134-615702      H-2A      2014-06-06           90   \n",
       "H-300-14007-844145      H-2A      2014-01-30           22   \n",
       "H-300-14071-513596      H-2A      2014-04-04           26   \n",
       "H-300-14037-956780      H-2A      2014-03-13           80   \n",
       "H-300-14134-859520      H-2A      2014-06-10           55   \n",
       "H-300-14184-758697      H-2A      2014-07-23           58   \n",
       "\n",
       "                                                        employer_name  \\\n",
       "case_no                                                                 \n",
       "H-300-14107-535733                            T. BELL DETASSELING LLC   \n",
       "H-300-14156-392963                          WALTER P. RAWL & SONS INC   \n",
       "H-300-14184-707008                                      FREY BROTHERS   \n",
       "H-300-14037-080405                             JE COOLEY FARMS INC #2   \n",
       "H-300-14042-816041                         DUTCHMAN TREE FARMS LLC #1   \n",
       "H-300-14134-615702                          JONES & CHURCH FARMS INC.   \n",
       "H-300-14007-844145                        WILLOWBEND NURSERIES LLC #2   \n",
       "H-300-14071-513596                              T & P HARVESTING, LLC   \n",
       "H-300-14037-956780                            C.S.MCLEOD FARMS INC #2   \n",
       "H-300-14134-859520  SCOTT STRAWBERRY & TOMATO FARM & SCOTT UNAKA M...   \n",
       "H-300-14184-758697                            MATTHEWS RIDGEVIEW FARM   \n",
       "\n",
       "                   employer_postal_code  \\\n",
       "case_no                                   \n",
       "H-300-14107-535733                52755   \n",
       "H-300-14156-392963                29123   \n",
       "H-300-14184-707008                62851   \n",
       "H-300-14037-080405                29323   \n",
       "H-300-14042-816041                49663   \n",
       "H-300-14134-615702                37692   \n",
       "H-300-14007-844145                44146   \n",
       "H-300-14071-513596                38851   \n",
       "H-300-14037-956780                29101   \n",
       "H-300-14134-859520                37692   \n",
       "H-300-14184-758697                72396   \n",
       "\n",
       "                                                           agent_name  \n",
       "case_no                                                                \n",
       "H-300-14107-535733  INTERNATIONAL LABOR MANAGEMENT CORPORATION:THE...  \n",
       "H-300-14156-392963  INTERNATIONAL LABOR MANAGEMENT CORPORATION:THE...  \n",
       "H-300-14184-707008  INTERNATIONAL LABOR MANAGEMENT CORPORATION:CHR...  \n",
       "H-300-14037-080405  INTERNATIONAL LABOR MANAGEMENT CORPORATION:THE...  \n",
       "H-300-14042-816041   INTERNATIONAL LABOR MANAGEMENT CORP:THERESA WARD  \n",
       "H-300-14134-615702  INTERNATIONAL LABOR MANAGEMENT CORPORATION:THE...  \n",
       "H-300-14007-844145  INTERNATIONAL LABOR MANAGEMENT CORPORATION:THE...  \n",
       "H-300-14071-513596  INTERNATIONAL LABOR MANAGEMENT CORPORATION:CHR...  \n",
       "H-300-14037-956780  INTERNATIOAL LABOR MANAGEMENT CORPORATION:THER...  \n",
       "H-300-14134-859520  INTERNATIONAL LABOR MANAGEMENT CORPORATION:THE...  \n",
       "H-300-14184-758697  INTERNATIONAL LABOR MANAGEMENT CORP:CHRISTI TA...  "
      ]
     },
     "execution_count": 41,
     "metadata": {},
     "output_type": "execute_result"
    }
   ],
   "source": [
    "nac_prev_ilmc_case_nos = [\n",
    "    \"H-300-14107-535733\", \"H-300-14156-392963\", \"H-300-14184-707008\", \"H-300-14037-080405\",\n",
    "    \"H-300-14042-816041\", \"H-300-14134-615702\", \"H-300-14007-844145\", \"H-300-14071-513596\",\n",
    "    \"H-300-14037-956780\", \"H-300-14134-859520\", \"H-300-14184-758697\",\n",
    "]\n",
    "visa_decisions[\n",
    "    visa_decisions[\"case_no\"].isin(nac_prev_ilmc_case_nos)\n",
    "][[\n",
    "    \"case_no\", \"visa_type\", \"last_event_date\", \"n_certified\",\n",
    "    \"employer_name\", \"employer_postal_code\", \"agent_name\"\n",
    "]].set_index(\"case_no\").ix[nac_prev_ilmc_case_nos]"
   ]
  },
  {
   "cell_type": "markdown",
   "metadata": {},
   "source": [
    "## \"Since Eury was first indicted [on Jan. 31, 2014], the [NCGA] has won approval for at least 22,000 visas.\""
   ]
  },
  {
   "cell_type": "code",
   "execution_count": 42,
   "metadata": {
    "collapsed": false
   },
   "outputs": [
    {
     "data": {
      "text/plain": [
       "22957"
      ]
     },
     "execution_count": 42,
     "metadata": {},
     "output_type": "execute_result"
    }
   ],
   "source": [
    "visa_decisions[\n",
    "    visa_decisions[\"is_ncga\"] &\n",
    "    (visa_decisions[\"last_event_date\"] > \"2014-01-31\") &\n",
    "    (visa_decisions[\"is_duplicate\"] != True)\n",
    "][\"n_certified\"].sum()"
   ]
  },
  {
   "cell_type": "markdown",
   "metadata": {},
   "source": [
    "---\n",
    "\n",
    "---\n",
    "\n",
    "---"
   ]
  }
 ],
 "metadata": {
  "kernelspec": {
   "display_name": "Python 3",
   "language": "python",
   "name": "python3"
  },
  "language_info": {
   "codemirror_mode": {
    "name": "ipython",
    "version": 3
   },
   "file_extension": ".py",
   "mimetype": "text/x-python",
   "name": "python",
   "nbconvert_exporter": "python",
   "pygments_lexer": "ipython3",
   "version": "3.4.3"
  }
 },
 "nbformat": 4,
 "nbformat_minor": 0
}
